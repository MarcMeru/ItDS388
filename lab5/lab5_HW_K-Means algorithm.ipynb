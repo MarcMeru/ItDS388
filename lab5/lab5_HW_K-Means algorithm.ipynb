{
  "cells": [
    {
      "cell_type": "markdown",
      "metadata": {
        "id": "9peD9Pc9kCRw"
      },
      "source": [
        "# Lab 5: K-Means Algorithm"
      ]
    },
    {
      "cell_type": "markdown",
      "metadata": {
        "id": "rOBgpG0tvaiW"
      },
      "source": [
        "## Data Generation"
      ]
    },
    {
      "cell_type": "code",
      "execution_count": 27,
      "metadata": {
        "id": "XyL3TASHjyu_"
      },
      "outputs": [],
      "source": [
        "import numpy as np\n",
        "import pandas as pd\n",
        "import matplotlib.pyplot as plt\n",
        "%matplotlib inline"
      ]
    },
    {
      "cell_type": "code",
      "execution_count": 28,
      "metadata": {
        "id": "knw2519qj-DU"
      },
      "outputs": [],
      "source": [
        "def make_one_group(size, mean = 0, std = 1):\n",
        "    return np.random.normal(size = (size, 2), loc = mean, scale = np.abs(std))\n",
        "\n",
        "\n",
        "def make_N_groups(size, N = 1):\n",
        "\n",
        "    output = np.zeros((size, 3))\n",
        "    group_size = int(np.round(size / N))\n",
        "    idx = 0\n",
        "    for i in range(N - 1):\n",
        "        output[idx : idx + group_size, 0] = int(i)\n",
        "        output[idx : idx + group_size, 1 : 3] = make_one_group(group_size, np.random.normal(size = 1, loc = 0, scale = 2), np.random.normal(size = 1))\n",
        "        idx += group_size\n",
        "    output[idx : size, 0] = int(N - 1)\n",
        "    output[idx : size, 1 : 3] = make_one_group(size - idx, np.random.normal(size = 1, loc = 0, scale = 2), np.random.normal(size = 1))\n",
        "    return output"
      ]
    },
    {
      "cell_type": "code",
      "execution_count": 29,
      "metadata": {
        "colab": {
          "base_uri": "https://localhost:8080/",
          "height": 459
        },
        "id": "YzuGIcf8t7cc",
        "outputId": "5217160d-a314-4052-c6aa-6ddb789f3ad0"
      },
      "outputs": [
        {
          "data": {
            "text/plain": [
              "<matplotlib.legend.Legend at 0x12b9bc050>"
            ]
          },
          "execution_count": 29,
          "metadata": {},
          "output_type": "execute_result"
        },
        {
          "data": {
            "image/png": "[encoded data removed]",
            "text/plain": [
              "<Figure size 600x600 with 1 Axes>"
            ]
          },
          "metadata": {},
          "output_type": "display_data"
        }
      ],
      "source": [
        "np.random.seed(3033)\n",
        "\n",
        "types = 3\n",
        "data_size = 100\n",
        "data = make_N_groups(data_size, types)\n",
        "\n",
        "plt.figure(figsize = (6, 6))\n",
        "\n",
        "\n",
        "for i in range(types):\n",
        "    mask = data[:, 0] == i\n",
        "    plt.plot(data[mask, 1], data[mask, 2], \"o\")\n",
        "\n",
        "\n",
        "plt.grid(True)\n",
        "plt.legend([\"Group {0}\".format(i) for i in range(types)])"
      ]
    },
    {
      "cell_type": "code",
      "execution_count": 30,
      "metadata": {
        "colab": {
          "base_uri": "https://localhost:8080/",
          "height": 422
        },
        "id": "DMnGLWHcvZmC",
        "outputId": "b0bf3634-08ea-4b20-ca8b-a671a5d8d873"
      },
      "outputs": [
        {
          "data": {
            "text/html": [
              "<div>\n",
              "<style scoped>\n",
              "    .dataframe tbody tr th:only-of-type {\n",
              "        vertical-align: middle;\n",
              "    }\n",
              "\n",
              "    .dataframe tbody tr th {\n",
              "        vertical-align: top;\n",
              "    }\n",
              "\n",
              "    .dataframe thead th {\n",
              "        text-align: right;\n",
              "    }\n",
              "</style>\n",
              "<table border=\"1\" class=\"dataframe\">\n",
              "  <thead>\n",
              "    <tr style=\"text-align: right;\">\n",
              "      <th></th>\n",
              "      <th>X</th>\n",
              "      <th>Y</th>\n",
              "    </tr>\n",
              "  </thead>\n",
              "  <tbody>\n",
              "    <tr>\n",
              "      <th>0</th>\n",
              "      <td>-0.087509</td>\n",
              "      <td>-0.412195</td>\n",
              "    </tr>\n",
              "    <tr>\n",
              "      <th>1</th>\n",
              "      <td>-0.171471</td>\n",
              "      <td>-0.115849</td>\n",
              "    </tr>\n",
              "    <tr>\n",
              "      <th>2</th>\n",
              "      <td>-0.166024</td>\n",
              "      <td>-0.312749</td>\n",
              "    </tr>\n",
              "    <tr>\n",
              "      <th>3</th>\n",
              "      <td>-0.375249</td>\n",
              "      <td>-0.352101</td>\n",
              "    </tr>\n",
              "    <tr>\n",
              "      <th>4</th>\n",
              "      <td>-0.375646</td>\n",
              "      <td>-0.350197</td>\n",
              "    </tr>\n",
              "    <tr>\n",
              "      <th>...</th>\n",
              "      <td>...</td>\n",
              "      <td>...</td>\n",
              "    </tr>\n",
              "    <tr>\n",
              "      <th>95</th>\n",
              "      <td>1.866714</td>\n",
              "      <td>2.420604</td>\n",
              "    </tr>\n",
              "    <tr>\n",
              "      <th>96</th>\n",
              "      <td>0.136387</td>\n",
              "      <td>2.973146</td>\n",
              "    </tr>\n",
              "    <tr>\n",
              "      <th>97</th>\n",
              "      <td>1.575202</td>\n",
              "      <td>2.748575</td>\n",
              "    </tr>\n",
              "    <tr>\n",
              "      <th>98</th>\n",
              "      <td>3.295256</td>\n",
              "      <td>3.010458</td>\n",
              "    </tr>\n",
              "    <tr>\n",
              "      <th>99</th>\n",
              "      <td>2.210421</td>\n",
              "      <td>2.593429</td>\n",
              "    </tr>\n",
              "  </tbody>\n",
              "</table>\n",
              "<p>100 rows × 2 columns</p>\n",
              "</div>"
            ],
            "text/plain": [
              "           X         Y\n",
              "0  -0.087509 -0.412195\n",
              "1  -0.171471 -0.115849\n",
              "2  -0.166024 -0.312749\n",
              "3  -0.375249 -0.352101\n",
              "4  -0.375646 -0.350197\n",
              "..       ...       ...\n",
              "95  1.866714  2.420604\n",
              "96  0.136387  2.973146\n",
              "97  1.575202  2.748575\n",
              "98  3.295256  3.010458\n",
              "99  2.210421  2.593429\n",
              "\n",
              "[100 rows x 2 columns]"
            ]
          },
          "execution_count": 30,
          "metadata": {},
          "output_type": "execute_result"
        }
      ],
      "source": [
        "tbl = pd.DataFrame(data[:, 1:3])\n",
        "tbl.columns = [\"X\", \"Y\"]\n",
        "tbl"
      ]
    },
    {
      "cell_type": "markdown",
      "metadata": {
        "id": "2TBy3bVyvcy7"
      },
      "source": [
        "## K-Means Algorithm"
      ]
    },
    {
      "cell_type": "markdown",
      "metadata": {
        "id": "dVBJa2KAxBLu"
      },
      "source": [
        "### Step 1: Centers of 1st Generation"
      ]
    },
    {
      "cell_type": "code",
      "execution_count": 31,
      "metadata": {
        "colab": {
          "base_uri": "https://localhost:8080/",
          "height": 143
        },
        "id": "S5-5xxe9wTD_",
        "outputId": "a512ecfe-5eaa-4283-b526-f716fdce5ce7"
      },
      "outputs": [
        {
          "data": {
            "text/html": [
              "<div>\n",
              "<style scoped>\n",
              "    .dataframe tbody tr th:only-of-type {\n",
              "        vertical-align: middle;\n",
              "    }\n",
              "\n",
              "    .dataframe tbody tr th {\n",
              "        vertical-align: top;\n",
              "    }\n",
              "\n",
              "    .dataframe thead th {\n",
              "        text-align: right;\n",
              "    }\n",
              "</style>\n",
              "<table border=\"1\" class=\"dataframe\">\n",
              "  <thead>\n",
              "    <tr style=\"text-align: right;\">\n",
              "      <th></th>\n",
              "      <th>X</th>\n",
              "      <th>Y</th>\n",
              "    </tr>\n",
              "  </thead>\n",
              "  <tbody>\n",
              "    <tr>\n",
              "      <th>0</th>\n",
              "      <td>-0.102796</td>\n",
              "      <td>-0.315572</td>\n",
              "    </tr>\n",
              "    <tr>\n",
              "      <th>1</th>\n",
              "      <td>-2.673655</td>\n",
              "      <td>-2.406638</td>\n",
              "    </tr>\n",
              "    <tr>\n",
              "      <th>2</th>\n",
              "      <td>-0.269759</td>\n",
              "      <td>-0.266819</td>\n",
              "    </tr>\n",
              "  </tbody>\n",
              "</table>\n",
              "</div>"
            ],
            "text/plain": [
              "          X         Y\n",
              "0 -0.102796 -0.315572\n",
              "1 -2.673655 -2.406638\n",
              "2 -0.269759 -0.266819"
            ]
          },
          "execution_count": 31,
          "metadata": {},
          "output_type": "execute_result"
        }
      ],
      "source": [
        "num_group_centers = 3\n",
        "centers = tbl.loc[np.random.choice(tbl.shape[0], num_group_centers)]\n",
        "centers.reset_index(inplace = True)\n",
        "centers = centers[[\"X\", \"Y\"]]\n",
        "centers"
      ]
    },
    {
      "cell_type": "code",
      "execution_count": 32,
      "metadata": {
        "colab": {
          "base_uri": "https://localhost:8080/",
          "height": 459
        },
        "id": "8TSXAG3zxMxy",
        "outputId": "2afd71dd-210e-4415-ce84-b68cce81ef91"
      },
      "outputs": [
        {
          "data": {
            "text/plain": [
              "[<matplotlib.lines.Line2D at 0x12bace710>]"
            ]
          },
          "execution_count": 32,
          "metadata": {},
          "output_type": "execute_result"
        },
        {
          "data": {
            "image/png": "[encoded data removed]",
            "text/plain": [
              "<Figure size 600x600 with 1 Axes>"
            ]
          },
          "metadata": {},
          "output_type": "display_data"
        }
      ],
      "source": [
        "plt.figure(figsize = (6, 6))\n",
        "\n",
        "for i in range(types):\n",
        "    mask = data[:, 0] == i\n",
        "    plt.plot(data[mask, 1], data[mask, 2], \"o\")\n",
        "    \n",
        "plt.grid(True)\n",
        "plt.legend([\"Group {0}\".format(i) for i in range(types)])\n",
        "\n",
        "plt.plot(centers[\"X\"], centers[\"Y\"], \"d\", ms = 14)"
      ]
    },
    {
      "cell_type": "markdown",
      "metadata": {
        "id": "scE9X-aUxYoG"
      },
      "source": [
        "### Step 2: Categorizing Data by Distance"
      ]
    },
    {
      "cell_type": "code",
      "execution_count": 33,
      "metadata": {
        "colab": {
          "base_uri": "https://localhost:8080/",
          "height": 422
        },
        "id": "RZnUMFFrxjly",
        "outputId": "01fbafb4-6fb0-42ac-f46e-043ae9bc00a3"
      },
      "outputs": [
        {
          "data": {
            "text/html": [
              "<div>\n",
              "<style scoped>\n",
              "    .dataframe tbody tr th:only-of-type {\n",
              "        vertical-align: middle;\n",
              "    }\n",
              "\n",
              "    .dataframe tbody tr th {\n",
              "        vertical-align: top;\n",
              "    }\n",
              "\n",
              "    .dataframe thead th {\n",
              "        text-align: right;\n",
              "    }\n",
              "</style>\n",
              "<table border=\"1\" class=\"dataframe\">\n",
              "  <thead>\n",
              "    <tr style=\"text-align: right;\">\n",
              "      <th></th>\n",
              "      <th>X</th>\n",
              "      <th>Y</th>\n",
              "      <th>ID</th>\n",
              "    </tr>\n",
              "  </thead>\n",
              "  <tbody>\n",
              "    <tr>\n",
              "      <th>0</th>\n",
              "      <td>-0.087509</td>\n",
              "      <td>-0.412195</td>\n",
              "      <td>None</td>\n",
              "    </tr>\n",
              "    <tr>\n",
              "      <th>1</th>\n",
              "      <td>-0.171471</td>\n",
              "      <td>-0.115849</td>\n",
              "      <td>None</td>\n",
              "    </tr>\n",
              "    <tr>\n",
              "      <th>2</th>\n",
              "      <td>-0.166024</td>\n",
              "      <td>-0.312749</td>\n",
              "      <td>None</td>\n",
              "    </tr>\n",
              "    <tr>\n",
              "      <th>3</th>\n",
              "      <td>-0.375249</td>\n",
              "      <td>-0.352101</td>\n",
              "      <td>None</td>\n",
              "    </tr>\n",
              "    <tr>\n",
              "      <th>4</th>\n",
              "      <td>-0.375646</td>\n",
              "      <td>-0.350197</td>\n",
              "      <td>None</td>\n",
              "    </tr>\n",
              "    <tr>\n",
              "      <th>...</th>\n",
              "      <td>...</td>\n",
              "      <td>...</td>\n",
              "      <td>...</td>\n",
              "    </tr>\n",
              "    <tr>\n",
              "      <th>95</th>\n",
              "      <td>1.866714</td>\n",
              "      <td>2.420604</td>\n",
              "      <td>None</td>\n",
              "    </tr>\n",
              "    <tr>\n",
              "      <th>96</th>\n",
              "      <td>0.136387</td>\n",
              "      <td>2.973146</td>\n",
              "      <td>None</td>\n",
              "    </tr>\n",
              "    <tr>\n",
              "      <th>97</th>\n",
              "      <td>1.575202</td>\n",
              "      <td>2.748575</td>\n",
              "      <td>None</td>\n",
              "    </tr>\n",
              "    <tr>\n",
              "      <th>98</th>\n",
              "      <td>3.295256</td>\n",
              "      <td>3.010458</td>\n",
              "      <td>None</td>\n",
              "    </tr>\n",
              "    <tr>\n",
              "      <th>99</th>\n",
              "      <td>2.210421</td>\n",
              "      <td>2.593429</td>\n",
              "      <td>None</td>\n",
              "    </tr>\n",
              "  </tbody>\n",
              "</table>\n",
              "<p>100 rows × 3 columns</p>\n",
              "</div>"
            ],
            "text/plain": [
              "           X         Y    ID\n",
              "0  -0.087509 -0.412195  None\n",
              "1  -0.171471 -0.115849  None\n",
              "2  -0.166024 -0.312749  None\n",
              "3  -0.375249 -0.352101  None\n",
              "4  -0.375646 -0.350197  None\n",
              "..       ...       ...   ...\n",
              "95  1.866714  2.420604  None\n",
              "96  0.136387  2.973146  None\n",
              "97  1.575202  2.748575  None\n",
              "98  3.295256  3.010458  None\n",
              "99  2.210421  2.593429  None\n",
              "\n",
              "[100 rows x 3 columns]"
            ]
          },
          "execution_count": 33,
          "metadata": {},
          "output_type": "execute_result"
        }
      ],
      "source": [
        "tbl2 = tbl\n",
        "tbl2[\"ID\"] = None\n",
        "tbl2"
      ]
    },
    {
      "cell_type": "code",
      "execution_count": 34,
      "metadata": {
        "colab": {
          "base_uri": "https://localhost:8080/",
          "height": 422
        },
        "id": "HSEH9x65yCzT",
        "outputId": "a4b93d44-7253-4cf9-9501-a23fcfa437f2"
      },
      "outputs": [
        {
          "data": {
            "text/html": [
              "<div>\n",
              "<style scoped>\n",
              "    .dataframe tbody tr th:only-of-type {\n",
              "        vertical-align: middle;\n",
              "    }\n",
              "\n",
              "    .dataframe tbody tr th {\n",
              "        vertical-align: top;\n",
              "    }\n",
              "\n",
              "    .dataframe thead th {\n",
              "        text-align: right;\n",
              "    }\n",
              "</style>\n",
              "<table border=\"1\" class=\"dataframe\">\n",
              "  <thead>\n",
              "    <tr style=\"text-align: right;\">\n",
              "      <th></th>\n",
              "      <th>X</th>\n",
              "      <th>Y</th>\n",
              "      <th>ID</th>\n",
              "      <th>C0</th>\n",
              "      <th>C1</th>\n",
              "      <th>C2</th>\n",
              "    </tr>\n",
              "  </thead>\n",
              "  <tbody>\n",
              "    <tr>\n",
              "      <th>0</th>\n",
              "      <td>-0.087509</td>\n",
              "      <td>-0.412195</td>\n",
              "      <td>None</td>\n",
              "      <td>0.097825</td>\n",
              "      <td>3.265877</td>\n",
              "      <td>0.233129</td>\n",
              "    </tr>\n",
              "    <tr>\n",
              "      <th>1</th>\n",
              "      <td>-0.171471</td>\n",
              "      <td>-0.115849</td>\n",
              "      <td>None</td>\n",
              "      <td>0.211200</td>\n",
              "      <td>3.392438</td>\n",
              "      <td>0.180146</td>\n",
              "    </tr>\n",
              "    <tr>\n",
              "      <th>2</th>\n",
              "      <td>-0.166024</td>\n",
              "      <td>-0.312749</td>\n",
              "      <td>None</td>\n",
              "      <td>0.063291</td>\n",
              "      <td>3.266892</td>\n",
              "      <td>0.113448</td>\n",
              "    </tr>\n",
              "    <tr>\n",
              "      <th>3</th>\n",
              "      <td>-0.375249</td>\n",
              "      <td>-0.352101</td>\n",
              "      <td>None</td>\n",
              "      <td>0.274891</td>\n",
              "      <td>3.082821</td>\n",
              "      <td>0.135651</td>\n",
              "    </tr>\n",
              "    <tr>\n",
              "      <th>4</th>\n",
              "      <td>-0.375646</td>\n",
              "      <td>-0.350197</td>\n",
              "      <td>None</td>\n",
              "      <td>0.275038</td>\n",
              "      <td>3.083795</td>\n",
              "      <td>0.134773</td>\n",
              "    </tr>\n",
              "    <tr>\n",
              "      <th>...</th>\n",
              "      <td>...</td>\n",
              "      <td>...</td>\n",
              "      <td>...</td>\n",
              "      <td>...</td>\n",
              "      <td>...</td>\n",
              "      <td>...</td>\n",
              "    </tr>\n",
              "    <tr>\n",
              "      <th>95</th>\n",
              "      <td>1.866714</td>\n",
              "      <td>2.420604</td>\n",
              "      <td>None</td>\n",
              "      <td>3.371295</td>\n",
              "      <td>6.627006</td>\n",
              "      <td>3.433185</td>\n",
              "    </tr>\n",
              "    <tr>\n",
              "      <th>96</th>\n",
              "      <td>0.136387</td>\n",
              "      <td>2.973146</td>\n",
              "      <td>None</td>\n",
              "      <td>3.297404</td>\n",
              "      <td>6.069465</td>\n",
              "      <td>3.265322</td>\n",
              "    </tr>\n",
              "    <tr>\n",
              "      <th>97</th>\n",
              "      <td>1.575202</td>\n",
              "      <td>2.748575</td>\n",
              "      <td>None</td>\n",
              "      <td>3.493518</td>\n",
              "      <td>6.680494</td>\n",
              "      <td>3.535036</td>\n",
              "    </tr>\n",
              "    <tr>\n",
              "      <th>98</th>\n",
              "      <td>3.295256</td>\n",
              "      <td>3.010458</td>\n",
              "      <td>None</td>\n",
              "      <td>4.754916</td>\n",
              "      <td>8.060572</td>\n",
              "      <td>4.842507</td>\n",
              "    </tr>\n",
              "    <tr>\n",
              "      <th>99</th>\n",
              "      <td>2.210421</td>\n",
              "      <td>2.593429</td>\n",
              "      <td>None</td>\n",
              "      <td>3.716619</td>\n",
              "      <td>6.989625</td>\n",
              "      <td>3.785804</td>\n",
              "    </tr>\n",
              "  </tbody>\n",
              "</table>\n",
              "<p>100 rows × 6 columns</p>\n",
              "</div>"
            ],
            "text/plain": [
              "           X         Y    ID        C0        C1        C2\n",
              "0  -0.087509 -0.412195  None  0.097825  3.265877  0.233129\n",
              "1  -0.171471 -0.115849  None  0.211200  3.392438  0.180146\n",
              "2  -0.166024 -0.312749  None  0.063291  3.266892  0.113448\n",
              "3  -0.375249 -0.352101  None  0.274891  3.082821  0.135651\n",
              "4  -0.375646 -0.350197  None  0.275038  3.083795  0.134773\n",
              "..       ...       ...   ...       ...       ...       ...\n",
              "95  1.866714  2.420604  None  3.371295  6.627006  3.433185\n",
              "96  0.136387  2.973146  None  3.297404  6.069465  3.265322\n",
              "97  1.575202  2.748575  None  3.493518  6.680494  3.535036\n",
              "98  3.295256  3.010458  None  4.754916  8.060572  4.842507\n",
              "99  2.210421  2.593429  None  3.716619  6.989625  3.785804\n",
              "\n",
              "[100 rows x 6 columns]"
            ]
          },
          "execution_count": 34,
          "metadata": {},
          "output_type": "execute_result"
        }
      ],
      "source": [
        "for i in range(centers.shape[0]):\n",
        "    tbl2[\"C{0}\".format(i)] = np.sqrt((tbl2[\"X\"] - centers.loc[i][\"X\"]) ** 2 + (tbl2[\"Y\"] - centers.loc[i][\"Y\"]) ** 2)\n",
        "tbl2"
      ]
    },
    {
      "cell_type": "code",
      "execution_count": 35,
      "metadata": {
        "colab": {
          "base_uri": "https://localhost:8080/",
          "height": 422
        },
        "id": "S8xtYtJFzGXy",
        "outputId": "dd5e0bde-20d6-49a7-9571-66c58d72db93"
      },
      "outputs": [
        {
          "data": {
            "text/html": [
              "<div>\n",
              "<style scoped>\n",
              "    .dataframe tbody tr th:only-of-type {\n",
              "        vertical-align: middle;\n",
              "    }\n",
              "\n",
              "    .dataframe tbody tr th {\n",
              "        vertical-align: top;\n",
              "    }\n",
              "\n",
              "    .dataframe thead th {\n",
              "        text-align: right;\n",
              "    }\n",
              "</style>\n",
              "<table border=\"1\" class=\"dataframe\">\n",
              "  <thead>\n",
              "    <tr style=\"text-align: right;\">\n",
              "      <th></th>\n",
              "      <th>X</th>\n",
              "      <th>Y</th>\n",
              "      <th>ID</th>\n",
              "      <th>C0</th>\n",
              "      <th>C1</th>\n",
              "      <th>C2</th>\n",
              "    </tr>\n",
              "  </thead>\n",
              "  <tbody>\n",
              "    <tr>\n",
              "      <th>0</th>\n",
              "      <td>-0.087509</td>\n",
              "      <td>-0.412195</td>\n",
              "      <td>0</td>\n",
              "      <td>0.097825</td>\n",
              "      <td>3.265877</td>\n",
              "      <td>0.233129</td>\n",
              "    </tr>\n",
              "    <tr>\n",
              "      <th>1</th>\n",
              "      <td>-0.171471</td>\n",
              "      <td>-0.115849</td>\n",
              "      <td>2</td>\n",
              "      <td>0.211200</td>\n",
              "      <td>3.392438</td>\n",
              "      <td>0.180146</td>\n",
              "    </tr>\n",
              "    <tr>\n",
              "      <th>2</th>\n",
              "      <td>-0.166024</td>\n",
              "      <td>-0.312749</td>\n",
              "      <td>0</td>\n",
              "      <td>0.063291</td>\n",
              "      <td>3.266892</td>\n",
              "      <td>0.113448</td>\n",
              "    </tr>\n",
              "    <tr>\n",
              "      <th>3</th>\n",
              "      <td>-0.375249</td>\n",
              "      <td>-0.352101</td>\n",
              "      <td>2</td>\n",
              "      <td>0.274891</td>\n",
              "      <td>3.082821</td>\n",
              "      <td>0.135651</td>\n",
              "    </tr>\n",
              "    <tr>\n",
              "      <th>4</th>\n",
              "      <td>-0.375646</td>\n",
              "      <td>-0.350197</td>\n",
              "      <td>2</td>\n",
              "      <td>0.275038</td>\n",
              "      <td>3.083795</td>\n",
              "      <td>0.134773</td>\n",
              "    </tr>\n",
              "    <tr>\n",
              "      <th>...</th>\n",
              "      <td>...</td>\n",
              "      <td>...</td>\n",
              "      <td>...</td>\n",
              "      <td>...</td>\n",
              "      <td>...</td>\n",
              "      <td>...</td>\n",
              "    </tr>\n",
              "    <tr>\n",
              "      <th>95</th>\n",
              "      <td>1.866714</td>\n",
              "      <td>2.420604</td>\n",
              "      <td>0</td>\n",
              "      <td>3.371295</td>\n",
              "      <td>6.627006</td>\n",
              "      <td>3.433185</td>\n",
              "    </tr>\n",
              "    <tr>\n",
              "      <th>96</th>\n",
              "      <td>0.136387</td>\n",
              "      <td>2.973146</td>\n",
              "      <td>2</td>\n",
              "      <td>3.297404</td>\n",
              "      <td>6.069465</td>\n",
              "      <td>3.265322</td>\n",
              "    </tr>\n",
              "    <tr>\n",
              "      <th>97</th>\n",
              "      <td>1.575202</td>\n",
              "      <td>2.748575</td>\n",
              "      <td>0</td>\n",
              "      <td>3.493518</td>\n",
              "      <td>6.680494</td>\n",
              "      <td>3.535036</td>\n",
              "    </tr>\n",
              "    <tr>\n",
              "      <th>98</th>\n",
              "      <td>3.295256</td>\n",
              "      <td>3.010458</td>\n",
              "      <td>0</td>\n",
              "      <td>4.754916</td>\n",
              "      <td>8.060572</td>\n",
              "      <td>4.842507</td>\n",
              "    </tr>\n",
              "    <tr>\n",
              "      <th>99</th>\n",
              "      <td>2.210421</td>\n",
              "      <td>2.593429</td>\n",
              "      <td>0</td>\n",
              "      <td>3.716619</td>\n",
              "      <td>6.989625</td>\n",
              "      <td>3.785804</td>\n",
              "    </tr>\n",
              "  </tbody>\n",
              "</table>\n",
              "<p>100 rows × 6 columns</p>\n",
              "</div>"
            ],
            "text/plain": [
              "           X         Y  ID        C0        C1        C2\n",
              "0  -0.087509 -0.412195   0  0.097825  3.265877  0.233129\n",
              "1  -0.171471 -0.115849   2  0.211200  3.392438  0.180146\n",
              "2  -0.166024 -0.312749   0  0.063291  3.266892  0.113448\n",
              "3  -0.375249 -0.352101   2  0.274891  3.082821  0.135651\n",
              "4  -0.375646 -0.350197   2  0.275038  3.083795  0.134773\n",
              "..       ...       ...  ..       ...       ...       ...\n",
              "95  1.866714  2.420604   0  3.371295  6.627006  3.433185\n",
              "96  0.136387  2.973146   2  3.297404  6.069465  3.265322\n",
              "97  1.575202  2.748575   0  3.493518  6.680494  3.535036\n",
              "98  3.295256  3.010458   0  4.754916  8.060572  4.842507\n",
              "99  2.210421  2.593429   0  3.716619  6.989625  3.785804\n",
              "\n",
              "[100 rows x 6 columns]"
            ]
          },
          "execution_count": 35,
          "metadata": {},
          "output_type": "execute_result"
        }
      ],
      "source": [
        "tbl2[\"ID\"] = tbl2.iloc[:, -3:].idxmin(axis = 1).apply(lambda x : int(x[1:]))\n",
        "tbl2"
      ]
    },
    {
      "cell_type": "code",
      "execution_count": 36,
      "metadata": {
        "colab": {
          "base_uri": "https://localhost:8080/",
          "height": 459
        },
        "id": "s1-bnE4N01BE",
        "outputId": "bf81cfd7-a45c-4722-81e6-08dd51f4c7d8"
      },
      "outputs": [
        {
          "data": {
            "text/plain": [
              "<matplotlib.legend.Legend at 0x12b9f8950>"
            ]
          },
          "execution_count": 36,
          "metadata": {},
          "output_type": "execute_result"
        },
        {
          "data": {
            "image/png": "[encoded data removed]",
            "text/plain": [
              "<Figure size 600x600 with 1 Axes>"
            ]
          },
          "metadata": {},
          "output_type": "display_data"
        }
      ],
      "source": [
        "plt.figure(figsize = (6, 6))\n",
        "\n",
        "for i in range(types):\n",
        "    mask = tbl2[\"ID\"] == i\n",
        "    plt.plot(tbl2[\"X\"][mask], tbl2[\"Y\"][mask], \"o\")\n",
        "    \n",
        "plt.grid(True)\n",
        "plt.legend([\"Group {0}\".format(i) for i in range(types)])"
      ]
    },
    {
      "cell_type": "markdown",
      "metadata": {
        "id": "IxPf_V-O1MOM"
      },
      "source": [
        "### Step 3: Go Back to Step 1 Unless No One Changes Its ID"
      ]
    },
    {
      "cell_type": "code",
      "execution_count": 37,
      "metadata": {
        "colab": {
          "base_uri": "https://localhost:8080/",
          "height": 143
        },
        "id": "78FrjK1X1UAj",
        "outputId": "a4104c94-da66-45bc-d384-1c500f3db113"
      },
      "outputs": [
        {
          "data": {
            "text/html": [
              "<div>\n",
              "<style scoped>\n",
              "    .dataframe tbody tr th:only-of-type {\n",
              "        vertical-align: middle;\n",
              "    }\n",
              "\n",
              "    .dataframe tbody tr th {\n",
              "        vertical-align: top;\n",
              "    }\n",
              "\n",
              "    .dataframe thead th {\n",
              "        text-align: right;\n",
              "    }\n",
              "</style>\n",
              "<table border=\"1\" class=\"dataframe\">\n",
              "  <thead>\n",
              "    <tr style=\"text-align: right;\">\n",
              "      <th></th>\n",
              "      <th>X</th>\n",
              "      <th>Y</th>\n",
              "    </tr>\n",
              "  </thead>\n",
              "  <tbody>\n",
              "    <tr>\n",
              "      <th>0</th>\n",
              "      <td>1.474241</td>\n",
              "      <td>1.581167</td>\n",
              "    </tr>\n",
              "    <tr>\n",
              "      <th>1</th>\n",
              "      <td>-1.976757</td>\n",
              "      <td>-2.173929</td>\n",
              "    </tr>\n",
              "    <tr>\n",
              "      <th>2</th>\n",
              "      <td>-0.355106</td>\n",
              "      <td>-0.136001</td>\n",
              "    </tr>\n",
              "  </tbody>\n",
              "</table>\n",
              "</div>"
            ],
            "text/plain": [
              "          X         Y\n",
              "0  1.474241  1.581167\n",
              "1 -1.976757 -2.173929\n",
              "2 -0.355106 -0.136001"
            ]
          },
          "execution_count": 37,
          "metadata": {},
          "output_type": "execute_result"
        }
      ],
      "source": [
        "for i in range(types):\n",
        "    mask = tbl2[\"ID\"] == i\n",
        "    centers[\"X\"][i] = tbl2[\"X\"][mask].mean()\n",
        "    centers[\"Y\"][i] = tbl2[\"Y\"][mask].mean()\n",
        "\n",
        "centers"
      ]
    },
    {
      "cell_type": "code",
      "execution_count": 38,
      "metadata": {
        "colab": {
          "base_uri": "https://localhost:8080/",
          "height": 459
        },
        "id": "pzGgVFjf1yX1",
        "outputId": "b5f7ad39-cd94-474b-d5c2-bca6e6c152f3"
      },
      "outputs": [
        {
          "data": {
            "text/plain": [
              "[<matplotlib.lines.Line2D at 0x12bbd8c50>]"
            ]
          },
          "execution_count": 38,
          "metadata": {},
          "output_type": "execute_result"
        },
        {
          "data": {
            "image/png": "[encoded data removed]",
            "text/plain": [
              "<Figure size 600x600 with 1 Axes>"
            ]
          },
          "metadata": {},
          "output_type": "display_data"
        }
      ],
      "source": [
        "plt.figure(figsize = (6, 6))\n",
        "\n",
        "for i in range(types):\n",
        "    mask = tbl2[\"ID\"] == i\n",
        "    plt.plot(tbl2[\"X\"][mask], tbl2[\"Y\"][mask], \"o\")\n",
        "\n",
        "plt.grid(True)\n",
        "plt.plot(centers[\"X\"], centers[\"Y\"], \"d\", ms = 14)"
      ]
    },
    {
      "cell_type": "code",
      "execution_count": 39,
      "metadata": {
        "colab": {
          "base_uri": "https://localhost:8080/",
          "height": 422
        },
        "id": "IgrcCYW619Qb",
        "outputId": "dd6cd0cc-d330-4f8b-8750-724ac015be5d"
      },
      "outputs": [
        {
          "data": {
            "text/html": [
              "<div>\n",
              "<style scoped>\n",
              "    .dataframe tbody tr th:only-of-type {\n",
              "        vertical-align: middle;\n",
              "    }\n",
              "\n",
              "    .dataframe tbody tr th {\n",
              "        vertical-align: top;\n",
              "    }\n",
              "\n",
              "    .dataframe thead th {\n",
              "        text-align: right;\n",
              "    }\n",
              "</style>\n",
              "<table border=\"1\" class=\"dataframe\">\n",
              "  <thead>\n",
              "    <tr style=\"text-align: right;\">\n",
              "      <th></th>\n",
              "      <th>X</th>\n",
              "      <th>Y</th>\n",
              "      <th>ID</th>\n",
              "      <th>C0</th>\n",
              "      <th>C1</th>\n",
              "      <th>C2</th>\n",
              "    </tr>\n",
              "  </thead>\n",
              "  <tbody>\n",
              "    <tr>\n",
              "      <th>0</th>\n",
              "      <td>-0.087509</td>\n",
              "      <td>-0.412195</td>\n",
              "      <td>0</td>\n",
              "      <td>2.532302</td>\n",
              "      <td>2.583208</td>\n",
              "      <td>0.384566</td>\n",
              "    </tr>\n",
              "    <tr>\n",
              "      <th>1</th>\n",
              "      <td>-0.171471</td>\n",
              "      <td>-0.115849</td>\n",
              "      <td>2</td>\n",
              "      <td>2.363944</td>\n",
              "      <td>2.737654</td>\n",
              "      <td>0.184737</td>\n",
              "    </tr>\n",
              "    <tr>\n",
              "      <th>2</th>\n",
              "      <td>-0.166024</td>\n",
              "      <td>-0.312749</td>\n",
              "      <td>0</td>\n",
              "      <td>2.505472</td>\n",
              "      <td>2.596679</td>\n",
              "      <td>0.258828</td>\n",
              "    </tr>\n",
              "    <tr>\n",
              "      <th>3</th>\n",
              "      <td>-0.375249</td>\n",
              "      <td>-0.352101</td>\n",
              "      <td>2</td>\n",
              "      <td>2.675470</td>\n",
              "      <td>2.425671</td>\n",
              "      <td>0.217037</td>\n",
              "    </tr>\n",
              "    <tr>\n",
              "      <th>4</th>\n",
              "      <td>-0.375646</td>\n",
              "      <td>-0.350197</td>\n",
              "      <td>2</td>\n",
              "      <td>2.674369</td>\n",
              "      <td>2.426841</td>\n",
              "      <td>0.215178</td>\n",
              "    </tr>\n",
              "    <tr>\n",
              "      <th>...</th>\n",
              "      <td>...</td>\n",
              "      <td>...</td>\n",
              "      <td>...</td>\n",
              "      <td>...</td>\n",
              "      <td>...</td>\n",
              "      <td>...</td>\n",
              "    </tr>\n",
              "    <tr>\n",
              "      <th>95</th>\n",
              "      <td>1.866714</td>\n",
              "      <td>2.420604</td>\n",
              "      <td>0</td>\n",
              "      <td>0.926655</td>\n",
              "      <td>5.990159</td>\n",
              "      <td>3.387140</td>\n",
              "    </tr>\n",
              "    <tr>\n",
              "      <th>96</th>\n",
              "      <td>0.136387</td>\n",
              "      <td>2.973146</td>\n",
              "      <td>2</td>\n",
              "      <td>1.930662</td>\n",
              "      <td>5.563969</td>\n",
              "      <td>3.147755</td>\n",
              "    </tr>\n",
              "    <tr>\n",
              "      <th>97</th>\n",
              "      <td>1.575202</td>\n",
              "      <td>2.748575</td>\n",
              "      <td>0</td>\n",
              "      <td>1.171765</td>\n",
              "      <td>6.070210</td>\n",
              "      <td>3.470859</td>\n",
              "    </tr>\n",
              "    <tr>\n",
              "      <th>98</th>\n",
              "      <td>3.295256</td>\n",
              "      <td>3.010458</td>\n",
              "      <td>0</td>\n",
              "      <td>2.314944</td>\n",
              "      <td>7.394050</td>\n",
              "      <td>4.819268</td>\n",
              "    </tr>\n",
              "    <tr>\n",
              "      <th>99</th>\n",
              "      <td>2.210421</td>\n",
              "      <td>2.593429</td>\n",
              "      <td>0</td>\n",
              "      <td>1.251653</td>\n",
              "      <td>6.345089</td>\n",
              "      <td>3.745893</td>\n",
              "    </tr>\n",
              "  </tbody>\n",
              "</table>\n",
              "<p>100 rows × 6 columns</p>\n",
              "</div>"
            ],
            "text/plain": [
              "           X         Y  ID        C0        C1        C2\n",
              "0  -0.087509 -0.412195   0  2.532302  2.583208  0.384566\n",
              "1  -0.171471 -0.115849   2  2.363944  2.737654  0.184737\n",
              "2  -0.166024 -0.312749   0  2.505472  2.596679  0.258828\n",
              "3  -0.375249 -0.352101   2  2.675470  2.425671  0.217037\n",
              "4  -0.375646 -0.350197   2  2.674369  2.426841  0.215178\n",
              "..       ...       ...  ..       ...       ...       ...\n",
              "95  1.866714  2.420604   0  0.926655  5.990159  3.387140\n",
              "96  0.136387  2.973146   2  1.930662  5.563969  3.147755\n",
              "97  1.575202  2.748575   0  1.171765  6.070210  3.470859\n",
              "98  3.295256  3.010458   0  2.314944  7.394050  4.819268\n",
              "99  2.210421  2.593429   0  1.251653  6.345089  3.745893\n",
              "\n",
              "[100 rows x 6 columns]"
            ]
          },
          "execution_count": 39,
          "metadata": {},
          "output_type": "execute_result"
        }
      ],
      "source": [
        "for i in range(centers.shape[0]):\n",
        "    tbl2[\"C{0}\".format(i)] = np.sqrt((tbl2[\"X\"] - centers.loc[i][\"X\"]) ** 2 + (tbl2[\"Y\"] - centers.loc[i][\"Y\"]) ** 2)\n",
        "\n",
        "tbl2"
      ]
    },
    {
      "cell_type": "code",
      "execution_count": 40,
      "metadata": {
        "colab": {
          "base_uri": "https://localhost:8080/"
        },
        "id": "xQgt6V1d2AtK",
        "outputId": "e078556a-ed5b-4444-bd40-142c78add447"
      },
      "outputs": [
        {
          "data": {
            "text/plain": [
              "True"
            ]
          },
          "execution_count": 40,
          "metadata": {},
          "output_type": "execute_result"
        }
      ],
      "source": [
        "changed = np.any(tbl2[\"ID\"] - tbl2.iloc[:, -3:].idxmin(axis = 1).apply(lambda x : int(x[1:])) != 0)\n",
        "changed"
      ]
    },
    {
      "cell_type": "markdown",
      "metadata": {
        "id": "kVa8Iky07F_4"
      },
      "source": [
        "### Step 4: Put It Together"
      ]
    },
    {
      "cell_type": "code",
      "execution_count": 41,
      "metadata": {
        "colab": {
          "base_uri": "https://localhost:8080/",
          "height": 459
        },
        "id": "NBPrzEBc57cL",
        "outputId": "bdaa7d88-0c0c-4e80-c29d-77a0c67e7601"
      },
      "outputs": [
        {
          "data": {
            "text/plain": [
              "Text(0.5, 1.0, 'Iterations: 4')"
            ]
          },
          "execution_count": 41,
          "metadata": {},
          "output_type": "execute_result"
        },
        {
          "data": {
            "image/png": "[encoded data removed]",
            "text/plain": [
              "<Figure size 1200x600 with 2 Axes>"
            ]
          },
          "metadata": {},
          "output_type": "display_data"
        }
      ],
      "source": [
        "iterations = 1\n",
        "\n",
        "while changed:\n",
        "\n",
        "    for i in range(types):\n",
        "        mask = tbl2[\"ID\"] == i\n",
        "        centers[\"X\"][i] = tbl2[\"X\"][mask].mean()\n",
        "        centers[\"Y\"][i] = tbl2[\"Y\"][mask].mean()\n",
        "\n",
        "    for i in range(centers.shape[0]):\n",
        "        tbl2[\"C{0}\".format(i)] = np.sqrt((tbl2[\"X\"] - centers.loc[i][\"X\"]) ** 2 + (tbl2[\"Y\"] - centers.loc[i][\"Y\"]) ** 2)\n",
        "    changed = np.any(tbl2[\"ID\"] - tbl2.iloc[:, -3:].idxmin(axis = 1).apply(lambda x : int(x[1:])) != 0)\n",
        "    tbl2[\"ID\"] = tbl2.iloc[:, -3:].idxmin(axis = 1).apply(lambda x : int(x[1:]))\n",
        "    iterations += 1\n",
        "\n",
        "plt.figure(figsize = (12, 6))\n",
        "plt.subplot(121)\n",
        "\n",
        "\n",
        "for i in range(types):\n",
        "    mask = data[:, 0] == i\n",
        "    plt.plot(data[mask, 1], data[mask, 2], \"o\")\n",
        "plt.grid(True)\n",
        "plt.legend([\"Group {0}\".format(i) for i in range(types)])\n",
        "plt.title(\"Correct Groups\")\n",
        "\n",
        "plt.subplot(122)\n",
        "\n",
        "\n",
        "for i in range(types):\n",
        "    mask = tbl2[\"ID\"] == i\n",
        "    plt.plot(tbl2[\"X\"][mask], tbl2[\"Y\"][mask], \"o\")\n",
        "    \n",
        "plt.grid(True)\n",
        "plt.plot(centers[\"X\"], centers[\"Y\"], \"d\", ms = 14)\n",
        "plt.legend([\"Group {0}\".format(i) for i in range(types)])\n",
        "plt.title(\"Iterations: {0}\".format(iterations))"
      ]
    },
    {
      "cell_type": "markdown",
      "metadata": {
        "id": "LlAw1xLcAUZC"
      },
      "source": [
        "## Benchmark\n",
        "- References\n",
        "    - https://scikit-learn.org/stable/auto_examples/cluster/plot_mini_batch_kmeans.html"
      ]
    },
    {
      "cell_type": "code",
      "execution_count": 42,
      "metadata": {
        "colab": {
          "base_uri": "https://localhost:8080/"
        },
        "id": "h55oMhMU_RfJ",
        "outputId": "df1d1d4c-4658-4e10-dd48-b29aaee0b8d6"
      },
      "outputs": [
        {
          "name": "stderr",
          "output_type": "stream",
          "text": [
            "/Library/Frameworks/Python.framework/Versions/3.11/lib/python3.11/site-packages/sklearn/cluster/_kmeans.py:1930: FutureWarning: The default value of `n_init` will change from 3 to 'auto' in 1.4. Set the value of `n_init` explicitly to suppress the warning\n",
            "  super()._check_params_vs_input(X, default_n_init=3)\n"
          ]
        },
        {
          "data": {
            "text/plain": [
              "array([1, 1, 1, 1, 1, 1, 1, 1, 1, 1, 1, 1, 1, 1, 1, 1, 1, 1, 1, 1, 1, 1,\n",
              "       1, 1, 1, 1, 1, 1, 1, 1, 1, 1, 1, 2, 2, 2, 2, 2, 2, 2, 2, 2, 2, 2,\n",
              "       2, 2, 2, 2, 2, 2, 2, 2, 2, 2, 2, 2, 2, 2, 2, 2, 2, 2, 2, 2, 2, 2,\n",
              "       1, 1, 0, 0, 0, 0, 0, 0, 1, 0, 0, 0, 0, 0, 0, 0, 0, 0, 1, 1, 0, 0,\n",
              "       1, 0, 1, 0, 0, 0, 0, 0, 0, 0, 0, 0], dtype=int32)"
            ]
          },
          "execution_count": 42,
          "metadata": {},
          "output_type": "execute_result"
        }
      ],
      "source": [
        "from sklearn.cluster import MiniBatchKMeans\n",
        "\n",
        "X = data[:, 1:]\n",
        "model = MiniBatchKMeans(3)\n",
        "model.fit(X)\n",
        "labels = model.predict(X)\n",
        "labels"
      ]
    },
    {
      "cell_type": "code",
      "execution_count": 43,
      "metadata": {
        "colab": {
          "base_uri": "https://localhost:8080/",
          "height": 459
        },
        "id": "Nim3EQ1qBOop",
        "outputId": "a40cc677-5fae-4ac3-8262-ca61148453a5"
      },
      "outputs": [
        {
          "data": {
            "text/plain": [
              "Text(0.5, 1.0, 'Mini-Batch KMeans')"
            ]
          },
          "execution_count": 43,
          "metadata": {},
          "output_type": "execute_result"
        },
        {
          "data": {
            "image/png": "[encoded data removed]",
            "text/plain": [
              "<Figure size 1200x600 with 2 Axes>"
            ]
          },
          "metadata": {},
          "output_type": "display_data"
        }
      ],
      "source": [
        "plt.figure(figsize = (12, 6))\n",
        "plt.subplot(121)\n",
        "\n",
        "\n",
        "for i in range(types):\n",
        "    mask = tbl2[\"ID\"] == i\n",
        "    plt.plot(tbl2[\"X\"][mask], tbl2[\"Y\"][mask], \"o\")\n",
        "\n",
        "plt.grid(True)\n",
        "plt.plot(centers[\"X\"], centers[\"Y\"], \"d\", ms = 14)\n",
        "plt.legend([\"Group {0}\".format(i) for i in range(types)])\n",
        "plt.title(\"Our Implementation\")\n",
        "\n",
        "plt.subplot(122)\n",
        "\n",
        "\n",
        "for i in range(types):\n",
        "    mask = labels == i\n",
        "    plt.plot(tbl2[\"X\"][mask], tbl2[\"Y\"][mask], \"o\")\n",
        "    \n",
        "plt.grid(True)\n",
        "\n",
        "\n",
        "for i in range(types):\n",
        "    mask = labels == i\n",
        "    centers[\"X\"][i] = tbl2[\"X\"][mask].mean()\n",
        "    centers[\"Y\"][i] = tbl2[\"Y\"][mask].mean()\n",
        "centers\n",
        "\n",
        "plt.plot(centers[\"X\"], centers[\"Y\"], \"d\", ms = 14)\n",
        "plt.legend([\"Group {0}\".format(i) for i in range(types)])\n",
        "plt.title(\"Mini-Batch KMeans\")"
      ]
    }
  ],
  "metadata": {
    "colab": {
      "collapsed_sections": [],
      "name": "lsp_lab5_demo.ipynb",
      "provenance": [],
      "toc_visible": true
    },
    "kernelspec": {
      "display_name": "Python 3",
      "name": "python3"
    },
    "language_info": {
      "codemirror_mode": {
        "name": "ipython",
        "version": 3
      },
      "file_extension": ".py",
      "mimetype": "text/x-python",
      "name": "python",
      "nbconvert_exporter": "python",
      "pygments_lexer": "ipython3",
      "version": "3.11.2"
    }
  },
  "nbformat": 4,
  "nbformat_minor": 0
}

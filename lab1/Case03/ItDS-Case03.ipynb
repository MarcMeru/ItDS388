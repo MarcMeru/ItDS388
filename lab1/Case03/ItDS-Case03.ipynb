{
  "cells": [
    {
      "cell_type": "markdown",
      "metadata": {
        "id": "Ado5MF6M3BSi"
      },
      "source": [
        "# How to Read JSON Files with Pandas\n",
        "- Data source: https://opendata.culture.tw/frontsite/openData/detail?datasetId=668\n",
        "    - File: https://boxoffice.tfi.org.tw/api/export?start=2021/05/10&end=2021/05/16"
      ]
    },
    {
      "cell_type": "code",
      "execution_count": 2,
      "metadata": {
        "id": "c0OsgSeWz8VT"
      },
      "outputs": [],
      "source": [
        "import pandas as pd\n",
        "\n",
        "tbl = pd.read_json(\"export.json\")"
      ]
    },
    {
      "cell_type": "code",
      "execution_count": 3,
      "metadata": {
        "id": "BtEVpv9d0Buw"
      },
      "outputs": [
        {
          "data": {
            "text/html": [
              "<div>\n",
              "<style scoped>\n",
              "    .dataframe tbody tr th:only-of-type {\n",
              "        vertical-align: middle;\n",
              "    }\n",
              "\n",
              "    .dataframe tbody tr th {\n",
              "        vertical-align: top;\n",
              "    }\n",
              "\n",
              "    .dataframe thead th {\n",
              "        text-align: right;\n",
              "    }\n",
              "</style>\n",
              "<table border=\"1\" class=\"dataframe\">\n",
              "  <thead>\n",
              "    <tr style=\"text-align: right;\">\n",
              "      <th></th>\n",
              "      <th>start</th>\n",
              "      <th>end</th>\n",
              "      <th>list</th>\n",
              "    </tr>\n",
              "  </thead>\n",
              "  <tbody>\n",
              "    <tr>\n",
              "      <th>0</th>\n",
              "      <td>2021-05-10T00:00:00</td>\n",
              "      <td>2021-05-16T00:00:00</td>\n",
              "      <td>{'country': '加拿大', 'name': '哈柏太空之旅 3D', 'relea...</td>\n",
              "    </tr>\n",
              "    <tr>\n",
              "      <th>1</th>\n",
              "      <td>2021-05-10T00:00:00</td>\n",
              "      <td>2021-05-16T00:00:00</td>\n",
              "      <td>{'country': '加拿大', 'name': '深海獵奇 3D', 'release...</td>\n",
              "    </tr>\n",
              "    <tr>\n",
              "      <th>2</th>\n",
              "      <td>2021-05-10T00:00:00</td>\n",
              "      <td>2021-05-16T00:00:00</td>\n",
              "      <td>{'country': '中華民國', 'name': '男人與他的海', 'release...</td>\n",
              "    </tr>\n",
              "    <tr>\n",
              "      <th>3</th>\n",
              "      <td>2021-05-10T00:00:00</td>\n",
              "      <td>2021-05-16T00:00:00</td>\n",
              "      <td>{'country': '中華民國', 'name': '複身犯', 'releaseDat...</td>\n",
              "    </tr>\n",
              "    <tr>\n",
              "      <th>4</th>\n",
              "      <td>2021-05-10T00:00:00</td>\n",
              "      <td>2021-05-16T00:00:00</td>\n",
              "      <td>{'country': '德國', 'name': '我的親親小妹', 'releaseDa...</td>\n",
              "    </tr>\n",
              "  </tbody>\n",
              "</table>\n",
              "</div>"
            ],
            "text/plain": [
              "                 start                  end  \\\n",
              "0  2021-05-10T00:00:00  2021-05-16T00:00:00   \n",
              "1  2021-05-10T00:00:00  2021-05-16T00:00:00   \n",
              "2  2021-05-10T00:00:00  2021-05-16T00:00:00   \n",
              "3  2021-05-10T00:00:00  2021-05-16T00:00:00   \n",
              "4  2021-05-10T00:00:00  2021-05-16T00:00:00   \n",
              "\n",
              "                                                list  \n",
              "0  {'country': '加拿大', 'name': '哈柏太空之旅 3D', 'relea...  \n",
              "1  {'country': '加拿大', 'name': '深海獵奇 3D', 'release...  \n",
              "2  {'country': '中華民國', 'name': '男人與他的海', 'release...  \n",
              "3  {'country': '中華民國', 'name': '複身犯', 'releaseDat...  \n",
              "4  {'country': '德國', 'name': '我的親親小妹', 'releaseDa...  "
            ]
          },
          "execution_count": 3,
          "metadata": {},
          "output_type": "execute_result"
        }
      ],
      "source": [
        "tbl.head()"
      ]
    },
    {
      "cell_type": "code",
      "execution_count": 4,
      "metadata": {
        "id": "Yg93s87d1gWV"
      },
      "outputs": [
        {
          "data": {
            "text/html": [
              "<div>\n",
              "<style scoped>\n",
              "    .dataframe tbody tr th:only-of-type {\n",
              "        vertical-align: middle;\n",
              "    }\n",
              "\n",
              "    .dataframe tbody tr th {\n",
              "        vertical-align: top;\n",
              "    }\n",
              "\n",
              "    .dataframe thead th {\n",
              "        text-align: right;\n",
              "    }\n",
              "</style>\n",
              "<table border=\"1\" class=\"dataframe\">\n",
              "  <thead>\n",
              "    <tr style=\"text-align: right;\">\n",
              "      <th></th>\n",
              "      <th>country</th>\n",
              "      <th>name</th>\n",
              "      <th>releaseDate</th>\n",
              "      <th>issue</th>\n",
              "      <th>produce</th>\n",
              "      <th>theaterCount</th>\n",
              "      <th>tickets</th>\n",
              "      <th>ticketChangeRate</th>\n",
              "      <th>amounts</th>\n",
              "      <th>totalTickets</th>\n",
              "      <th>totalAmounts</th>\n",
              "    </tr>\n",
              "  </thead>\n",
              "  <tbody>\n",
              "    <tr>\n",
              "      <th>0</th>\n",
              "      <td>加拿大</td>\n",
              "      <td>哈柏太空之旅 3D</td>\n",
              "      <td>2019-02-04T00:00:00</td>\n",
              "      <td>國際電影事業有限公司</td>\n",
              "      <td>IMAX Corporation</td>\n",
              "      <td>1</td>\n",
              "      <td>0</td>\n",
              "      <td>-1.000000</td>\n",
              "      <td>0.0</td>\n",
              "      <td>725</td>\n",
              "      <td>107050.0</td>\n",
              "    </tr>\n",
              "    <tr>\n",
              "      <th>1</th>\n",
              "      <td>加拿大</td>\n",
              "      <td>深海獵奇 3D</td>\n",
              "      <td>2019-02-03T00:00:00</td>\n",
              "      <td>國際電影事業有限公司</td>\n",
              "      <td>IMAX Corporation</td>\n",
              "      <td>1</td>\n",
              "      <td>0</td>\n",
              "      <td>-1.000000</td>\n",
              "      <td>0.0</td>\n",
              "      <td>1533</td>\n",
              "      <td>187359.0</td>\n",
              "    </tr>\n",
              "    <tr>\n",
              "      <th>2</th>\n",
              "      <td>中華民國</td>\n",
              "      <td>男人與他的海</td>\n",
              "      <td>2021-04-01T00:00:00</td>\n",
              "      <td>牽猴子整合行銷股份有限公司</td>\n",
              "      <td>黑糖媒體創意有限公司</td>\n",
              "      <td>2</td>\n",
              "      <td>31</td>\n",
              "      <td>-0.858447</td>\n",
              "      <td>8010.0</td>\n",
              "      <td>22973</td>\n",
              "      <td>5178236.0</td>\n",
              "    </tr>\n",
              "    <tr>\n",
              "      <th>3</th>\n",
              "      <td>中華民國</td>\n",
              "      <td>複身犯</td>\n",
              "      <td>2021-02-26T00:00:00</td>\n",
              "      <td>犢影制作電影有限公司</td>\n",
              "      <td>犢影制作電影有限公司##樂到家國際娛樂股份有限公司##良人行影業有限公司##麻吉砥加電影有限公司</td>\n",
              "      <td>8</td>\n",
              "      <td>244</td>\n",
              "      <td>-0.457778</td>\n",
              "      <td>23300.0</td>\n",
              "      <td>56052</td>\n",
              "      <td>13031624.0</td>\n",
              "    </tr>\n",
              "    <tr>\n",
              "      <th>4</th>\n",
              "      <td>德國</td>\n",
              "      <td>我的親親小妹</td>\n",
              "      <td>2021-03-26T00:00:00</td>\n",
              "      <td>可樂藝術文創股份有限公司</td>\n",
              "      <td>Beta Cinema GmbH</td>\n",
              "      <td>1</td>\n",
              "      <td>11</td>\n",
              "      <td>-0.676471</td>\n",
              "      <td>1560.0</td>\n",
              "      <td>392</td>\n",
              "      <td>75588.0</td>\n",
              "    </tr>\n",
              "  </tbody>\n",
              "</table>\n",
              "</div>"
            ],
            "text/plain": [
              "  country       name          releaseDate          issue  \\\n",
              "0     加拿大  哈柏太空之旅 3D  2019-02-04T00:00:00     國際電影事業有限公司   \n",
              "1     加拿大    深海獵奇 3D  2019-02-03T00:00:00     國際電影事業有限公司   \n",
              "2    中華民國     男人與他的海  2021-04-01T00:00:00  牽猴子整合行銷股份有限公司   \n",
              "3    中華民國        複身犯  2021-02-26T00:00:00     犢影制作電影有限公司   \n",
              "4      德國     我的親親小妹  2021-03-26T00:00:00   可樂藝術文創股份有限公司   \n",
              "\n",
              "                                            produce  theaterCount  tickets  \\\n",
              "0                                  IMAX Corporation             1        0   \n",
              "1                                  IMAX Corporation             1        0   \n",
              "2                                        黑糖媒體創意有限公司             2       31   \n",
              "3  犢影制作電影有限公司##樂到家國際娛樂股份有限公司##良人行影業有限公司##麻吉砥加電影有限公司             8      244   \n",
              "4                                  Beta Cinema GmbH             1       11   \n",
              "\n",
              "   ticketChangeRate  amounts  totalTickets  totalAmounts  \n",
              "0         -1.000000      0.0           725      107050.0  \n",
              "1         -1.000000      0.0          1533      187359.0  \n",
              "2         -0.858447   8010.0         22973     5178236.0  \n",
              "3         -0.457778  23300.0         56052    13031624.0  \n",
              "4         -0.676471   1560.0           392       75588.0  "
            ]
          },
          "execution_count": 4,
          "metadata": {},
          "output_type": "execute_result"
        }
      ],
      "source": [
        "tbl2 = pd.DataFrame(tbl[\"list\"].to_list())\n",
        "\n",
        "tbl2.head()"
      ]
    }
  ],
  "metadata": {
    "colab": {
      "collapsed_sections": [],
      "name": "lsp_1_pandas_tutorial_3_json.ipynb",
      "provenance": []
    },
    "kernelspec": {
      "display_name": "Python 3",
      "name": "python3"
    },
    "language_info": {
      "codemirror_mode": {
        "name": "ipython",
        "version": 3
      },
      "file_extension": ".py",
      "mimetype": "text/x-python",
      "name": "python",
      "nbconvert_exporter": "python",
      "pygments_lexer": "ipython3",
      "version": "3.11.2"
    }
  },
  "nbformat": 4,
  "nbformat_minor": 0
}

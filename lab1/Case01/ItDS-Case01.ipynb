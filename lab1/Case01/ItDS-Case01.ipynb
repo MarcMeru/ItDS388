{
  "cells": [
    {
      "cell_type": "code",
      "execution_count": 1,
      "metadata": {
        "id": "EkeOzLTPLw8A"
      },
      "outputs": [
        {
          "name": "stdout",
          "output_type": "stream",
          "text": [
            "/bin/bash: wget: command not found\n"
          ]
        }
      ],
      "source": [
        "!wget https://www.csie.ntu.edu.tw/~d00922011/stats/data/data.csv"
      ]
    },
    {
      "cell_type": "code",
      "execution_count": 2,
      "metadata": {
        "id": "GcxbUoTUUodp"
      },
      "outputs": [
        {
          "data": {
            "text/html": [
              "<div>\n",
              "<style scoped>\n",
              "    .dataframe tbody tr th:only-of-type {\n",
              "        vertical-align: middle;\n",
              "    }\n",
              "\n",
              "    .dataframe tbody tr th {\n",
              "        vertical-align: top;\n",
              "    }\n",
              "\n",
              "    .dataframe thead th {\n",
              "        text-align: right;\n",
              "    }\n",
              "</style>\n",
              "<table border=\"1\" class=\"dataframe\">\n",
              "  <thead>\n",
              "    <tr style=\"text-align: right;\">\n",
              "      <th></th>\n",
              "      <th>年份別</th>\n",
              "      <th>有效樣本數</th>\n",
              "      <th>合計 (%)</th>\n",
              "      <th>男性 (%)</th>\n",
              "      <th>女性 (%)</th>\n",
              "    </tr>\n",
              "  </thead>\n",
              "  <tbody>\n",
              "    <tr>\n",
              "      <th>0</th>\n",
              "      <td>民國94-97年</td>\n",
              "      <td>1577</td>\n",
              "      <td>8.5</td>\n",
              "      <td>10.4</td>\n",
              "      <td>6.6</td>\n",
              "    </tr>\n",
              "    <tr>\n",
              "      <th>1</th>\n",
              "      <td>民國102-103年</td>\n",
              "      <td>1460</td>\n",
              "      <td>13.2</td>\n",
              "      <td>16.2</td>\n",
              "      <td>10.5</td>\n",
              "    </tr>\n",
              "    <tr>\n",
              "      <th>2</th>\n",
              "      <td>民國102-104年</td>\n",
              "      <td>2195</td>\n",
              "      <td>12.3</td>\n",
              "      <td>14.5</td>\n",
              "      <td>10.4</td>\n",
              "    </tr>\n",
              "  </tbody>\n",
              "</table>\n",
              "</div>"
            ],
            "text/plain": [
              "          年份別  有效樣本數  合計 (%)  男性 (%)  女性 (%)\n",
              "0    民國94-97年   1577     8.5    10.4     6.6\n",
              "1  民國102-103年   1460    13.2    16.2    10.5\n",
              "2  民國102-104年   2195    12.3    14.5    10.4"
            ]
          },
          "execution_count": 2,
          "metadata": {},
          "output_type": "execute_result"
        }
      ],
      "source": [
        "import pandas as pd\n",
        "\n",
        "df = pd.read_csv(\"./data.csv\")\n",
        "df"
      ]
    },
    {
      "cell_type": "code",
      "execution_count": 3,
      "metadata": {
        "id": "WMcaoj-5VrFg"
      },
      "outputs": [
        {
          "data": {
            "text/plain": [
              "<Axes: >"
            ]
          },
          "execution_count": 3,
          "metadata": {},
          "output_type": "execute_result"
        },
        {
          "name": "stderr",
          "output_type": "stream",
          "text": [
            "/Users/marcmeru/Library/Python/3.11/lib/python/site-packages/IPython/core/events.py:93: UserWarning: Glyph 21512 (\\N{CJK UNIFIED IDEOGRAPH-5408}) missing from current font.\n",
            "  func(*args, **kwargs)\n",
            "/Users/marcmeru/Library/Python/3.11/lib/python/site-packages/IPython/core/events.py:93: UserWarning: Glyph 35336 (\\N{CJK UNIFIED IDEOGRAPH-8A08}) missing from current font.\n",
            "  func(*args, **kwargs)\n",
            "/Users/marcmeru/Library/Python/3.11/lib/python/site-packages/IPython/core/events.py:93: UserWarning: Glyph 30007 (\\N{CJK UNIFIED IDEOGRAPH-7537}) missing from current font.\n",
            "  func(*args, **kwargs)\n",
            "/Users/marcmeru/Library/Python/3.11/lib/python/site-packages/IPython/core/events.py:93: UserWarning: Glyph 24615 (\\N{CJK UNIFIED IDEOGRAPH-6027}) missing from current font.\n",
            "  func(*args, **kwargs)\n",
            "/Users/marcmeru/Library/Python/3.11/lib/python/site-packages/IPython/core/events.py:93: UserWarning: Glyph 22899 (\\N{CJK UNIFIED IDEOGRAPH-5973}) missing from current font.\n",
            "  func(*args, **kwargs)\n",
            "/Users/marcmeru/Library/Python/3.11/lib/python/site-packages/IPython/core/pylabtools.py:152: UserWarning: Glyph 21512 (\\N{CJK UNIFIED IDEOGRAPH-5408}) missing from current font.\n",
            "  fig.canvas.print_figure(bytes_io, **kw)\n",
            "/Users/marcmeru/Library/Python/3.11/lib/python/site-packages/IPython/core/pylabtools.py:152: UserWarning: Glyph 35336 (\\N{CJK UNIFIED IDEOGRAPH-8A08}) missing from current font.\n",
            "  fig.canvas.print_figure(bytes_io, **kw)\n",
            "/Users/marcmeru/Library/Python/3.11/lib/python/site-packages/IPython/core/pylabtools.py:152: UserWarning: Glyph 30007 (\\N{CJK UNIFIED IDEOGRAPH-7537}) missing from current font.\n",
            "  fig.canvas.print_figure(bytes_io, **kw)\n",
            "/Users/marcmeru/Library/Python/3.11/lib/python/site-packages/IPython/core/pylabtools.py:152: UserWarning: Glyph 24615 (\\N{CJK UNIFIED IDEOGRAPH-6027}) missing from current font.\n",
            "  fig.canvas.print_figure(bytes_io, **kw)\n",
            "/Users/marcmeru/Library/Python/3.11/lib/python/site-packages/IPython/core/pylabtools.py:152: UserWarning: Glyph 22899 (\\N{CJK UNIFIED IDEOGRAPH-5973}) missing from current font.\n",
            "  fig.canvas.print_figure(bytes_io, **kw)\n"
          ]
        },
        {
          "data": {
            "image/png": "[encoded data removed]",
            "text/plain": [
              "<Figure size 640x480 with 1 Axes>"
            ]
          },
          "metadata": {},
          "output_type": "display_data"
        }
      ],
      "source": [
        "df[[\"合計 (%)\", \"男性 (%)\",\t\"女性 (%)\"]].plot.bar()"
      ]
    },
    {
      "cell_type": "code",
      "execution_count": 4,
      "metadata": {
        "id": "MAEyHTfxOiy-"
      },
      "outputs": [
        {
          "data": {
            "text/plain": [
              "<Axes: >"
            ]
          },
          "execution_count": 4,
          "metadata": {},
          "output_type": "execute_result"
        },
        {
          "name": "stderr",
          "output_type": "stream",
          "text": [
            "/Users/marcmeru/Library/Python/3.11/lib/python/site-packages/IPython/core/events.py:93: UserWarning: Glyph 21512 (\\N{CJK UNIFIED IDEOGRAPH-5408}) missing from current font.\n",
            "  func(*args, **kwargs)\n",
            "/Users/marcmeru/Library/Python/3.11/lib/python/site-packages/IPython/core/events.py:93: UserWarning: Glyph 35336 (\\N{CJK UNIFIED IDEOGRAPH-8A08}) missing from current font.\n",
            "  func(*args, **kwargs)\n",
            "/Users/marcmeru/Library/Python/3.11/lib/python/site-packages/IPython/core/events.py:93: UserWarning: Glyph 30007 (\\N{CJK UNIFIED IDEOGRAPH-7537}) missing from current font.\n",
            "  func(*args, **kwargs)\n",
            "/Users/marcmeru/Library/Python/3.11/lib/python/site-packages/IPython/core/events.py:93: UserWarning: Glyph 24615 (\\N{CJK UNIFIED IDEOGRAPH-6027}) missing from current font.\n",
            "  func(*args, **kwargs)\n",
            "/Users/marcmeru/Library/Python/3.11/lib/python/site-packages/IPython/core/events.py:93: UserWarning: Glyph 22899 (\\N{CJK UNIFIED IDEOGRAPH-5973}) missing from current font.\n",
            "  func(*args, **kwargs)\n",
            "/Users/marcmeru/Library/Python/3.11/lib/python/site-packages/IPython/core/pylabtools.py:152: UserWarning: Glyph 21512 (\\N{CJK UNIFIED IDEOGRAPH-5408}) missing from current font.\n",
            "  fig.canvas.print_figure(bytes_io, **kw)\n",
            "/Users/marcmeru/Library/Python/3.11/lib/python/site-packages/IPython/core/pylabtools.py:152: UserWarning: Glyph 35336 (\\N{CJK UNIFIED IDEOGRAPH-8A08}) missing from current font.\n",
            "  fig.canvas.print_figure(bytes_io, **kw)\n",
            "/Users/marcmeru/Library/Python/3.11/lib/python/site-packages/IPython/core/pylabtools.py:152: UserWarning: Glyph 30007 (\\N{CJK UNIFIED IDEOGRAPH-7537}) missing from current font.\n",
            "  fig.canvas.print_figure(bytes_io, **kw)\n",
            "/Users/marcmeru/Library/Python/3.11/lib/python/site-packages/IPython/core/pylabtools.py:152: UserWarning: Glyph 24615 (\\N{CJK UNIFIED IDEOGRAPH-6027}) missing from current font.\n",
            "  fig.canvas.print_figure(bytes_io, **kw)\n",
            "/Users/marcmeru/Library/Python/3.11/lib/python/site-packages/IPython/core/pylabtools.py:152: UserWarning: Glyph 22899 (\\N{CJK UNIFIED IDEOGRAPH-5973}) missing from current font.\n",
            "  fig.canvas.print_figure(bytes_io, **kw)\n"
          ]
        },
        {
          "data": {
            "image/png": "[encoded data removed]",
            "text/plain": [
              "<Figure size 640x480 with 1 Axes>"
            ]
          },
          "metadata": {},
          "output_type": "display_data"
        }
      ],
      "source": [
        "df.iloc[:, 2:5].plot.bar()"
      ]
    },
    {
      "cell_type": "code",
      "execution_count": 5,
      "metadata": {
        "id": "Wi1W_7fNP4zO"
      },
      "outputs": [
        {
          "data": {
            "text/html": [
              "<div>\n",
              "<style scoped>\n",
              "    .dataframe tbody tr th:only-of-type {\n",
              "        vertical-align: middle;\n",
              "    }\n",
              "\n",
              "    .dataframe tbody tr th {\n",
              "        vertical-align: top;\n",
              "    }\n",
              "\n",
              "    .dataframe thead th {\n",
              "        text-align: right;\n",
              "    }\n",
              "</style>\n",
              "<table border=\"1\" class=\"dataframe\">\n",
              "  <thead>\n",
              "    <tr style=\"text-align: right;\">\n",
              "      <th></th>\n",
              "      <th>Years</th>\n",
              "      <th>Samples</th>\n",
              "      <th>Prevalence</th>\n",
              "      <th>Male</th>\n",
              "      <th>Female</th>\n",
              "    </tr>\n",
              "  </thead>\n",
              "  <tbody>\n",
              "    <tr>\n",
              "      <th>0</th>\n",
              "      <td>民國94-97年</td>\n",
              "      <td>1577</td>\n",
              "      <td>8.5</td>\n",
              "      <td>10.4</td>\n",
              "      <td>6.6</td>\n",
              "    </tr>\n",
              "    <tr>\n",
              "      <th>1</th>\n",
              "      <td>民國102-103年</td>\n",
              "      <td>1460</td>\n",
              "      <td>13.2</td>\n",
              "      <td>16.2</td>\n",
              "      <td>10.5</td>\n",
              "    </tr>\n",
              "    <tr>\n",
              "      <th>2</th>\n",
              "      <td>民國102-104年</td>\n",
              "      <td>2195</td>\n",
              "      <td>12.3</td>\n",
              "      <td>14.5</td>\n",
              "      <td>10.4</td>\n",
              "    </tr>\n",
              "  </tbody>\n",
              "</table>\n",
              "</div>"
            ],
            "text/plain": [
              "        Years  Samples  Prevalence  Male  Female\n",
              "0    民國94-97年     1577         8.5  10.4     6.6\n",
              "1  民國102-103年     1460        13.2  16.2    10.5\n",
              "2  民國102-104年     2195        12.3  14.5    10.4"
            ]
          },
          "execution_count": 5,
          "metadata": {},
          "output_type": "execute_result"
        }
      ],
      "source": [
        "df.columns = [\"Years\", \"Samples\", \"Prevalence\", \"Male\", \"Female\"]\n",
        "df"
      ]
    },
    {
      "cell_type": "code",
      "execution_count": 6,
      "metadata": {
        "id": "EqLPgUpYQllb"
      },
      "outputs": [
        {
          "data": {
            "text/html": [
              "<div>\n",
              "<style scoped>\n",
              "    .dataframe tbody tr th:only-of-type {\n",
              "        vertical-align: middle;\n",
              "    }\n",
              "\n",
              "    .dataframe tbody tr th {\n",
              "        vertical-align: top;\n",
              "    }\n",
              "\n",
              "    .dataframe thead th {\n",
              "        text-align: right;\n",
              "    }\n",
              "</style>\n",
              "<table border=\"1\" class=\"dataframe\">\n",
              "  <thead>\n",
              "    <tr style=\"text-align: right;\">\n",
              "      <th></th>\n",
              "      <th>Years</th>\n",
              "      <th>Samples</th>\n",
              "      <th>Prevalence</th>\n",
              "      <th>Male</th>\n",
              "      <th>Female</th>\n",
              "      <th>Starting year</th>\n",
              "      <th>End year</th>\n",
              "    </tr>\n",
              "  </thead>\n",
              "  <tbody>\n",
              "    <tr>\n",
              "      <th>0</th>\n",
              "      <td>民國94-97年</td>\n",
              "      <td>1577</td>\n",
              "      <td>8.5</td>\n",
              "      <td>10.4</td>\n",
              "      <td>6.6</td>\n",
              "      <td>2005</td>\n",
              "      <td>2008</td>\n",
              "    </tr>\n",
              "    <tr>\n",
              "      <th>1</th>\n",
              "      <td>民國102-103年</td>\n",
              "      <td>1460</td>\n",
              "      <td>13.2</td>\n",
              "      <td>16.2</td>\n",
              "      <td>10.5</td>\n",
              "      <td>2013</td>\n",
              "      <td>2014</td>\n",
              "    </tr>\n",
              "    <tr>\n",
              "      <th>2</th>\n",
              "      <td>民國102-104年</td>\n",
              "      <td>2195</td>\n",
              "      <td>12.3</td>\n",
              "      <td>14.5</td>\n",
              "      <td>10.4</td>\n",
              "      <td>2013</td>\n",
              "      <td>2015</td>\n",
              "    </tr>\n",
              "  </tbody>\n",
              "</table>\n",
              "</div>"
            ],
            "text/plain": [
              "        Years  Samples  Prevalence  Male  Female  Starting year  End year\n",
              "0    民國94-97年     1577         8.5  10.4     6.6           2005      2008\n",
              "1  民國102-103年     1460        13.2  16.2    10.5           2013      2014\n",
              "2  民國102-104年     2195        12.3  14.5    10.4           2013      2015"
            ]
          },
          "execution_count": 6,
          "metadata": {},
          "output_type": "execute_result"
        }
      ],
      "source": [
        "df[\"Starting year\"] = df[\"Years\"].apply(lambda x: int(x[2:-1].split(\"-\")[0]) + 1911)\n",
        "df[\"End year\"] = df[\"Years\"].apply(lambda x: int(x[2:-1].split(\"-\")[1]) + 1911)\n",
        "\n",
        "df"
      ]
    },
    {
      "cell_type": "code",
      "execution_count": 7,
      "metadata": {
        "id": "kvaUnwcfT-X6"
      },
      "outputs": [
        {
          "data": {
            "text/html": [
              "<div>\n",
              "<style scoped>\n",
              "    .dataframe tbody tr th:only-of-type {\n",
              "        vertical-align: middle;\n",
              "    }\n",
              "\n",
              "    .dataframe tbody tr th {\n",
              "        vertical-align: top;\n",
              "    }\n",
              "\n",
              "    .dataframe thead th {\n",
              "        text-align: right;\n",
              "    }\n",
              "</style>\n",
              "<table border=\"1\" class=\"dataframe\">\n",
              "  <thead>\n",
              "    <tr style=\"text-align: right;\">\n",
              "      <th></th>\n",
              "      <th>Samples</th>\n",
              "      <th>Prevalence</th>\n",
              "      <th>Male</th>\n",
              "      <th>Female</th>\n",
              "      <th>Starting year</th>\n",
              "      <th>End year</th>\n",
              "    </tr>\n",
              "  </thead>\n",
              "  <tbody>\n",
              "    <tr>\n",
              "      <th>0</th>\n",
              "      <td>1577</td>\n",
              "      <td>8.5</td>\n",
              "      <td>10.4</td>\n",
              "      <td>6.6</td>\n",
              "      <td>2005</td>\n",
              "      <td>2008</td>\n",
              "    </tr>\n",
              "    <tr>\n",
              "      <th>1</th>\n",
              "      <td>1460</td>\n",
              "      <td>13.2</td>\n",
              "      <td>16.2</td>\n",
              "      <td>10.5</td>\n",
              "      <td>2013</td>\n",
              "      <td>2014</td>\n",
              "    </tr>\n",
              "    <tr>\n",
              "      <th>2</th>\n",
              "      <td>2195</td>\n",
              "      <td>12.3</td>\n",
              "      <td>14.5</td>\n",
              "      <td>10.4</td>\n",
              "      <td>2013</td>\n",
              "      <td>2015</td>\n",
              "    </tr>\n",
              "  </tbody>\n",
              "</table>\n",
              "</div>"
            ],
            "text/plain": [
              "   Samples  Prevalence  Male  Female  Starting year  End year\n",
              "0     1577         8.5  10.4     6.6           2005      2008\n",
              "1     1460        13.2  16.2    10.5           2013      2014\n",
              "2     2195        12.3  14.5    10.4           2013      2015"
            ]
          },
          "execution_count": 7,
          "metadata": {},
          "output_type": "execute_result"
        }
      ],
      "source": [
        "del df[\"Years\"]\n",
        "df"
      ]
    },
    {
      "cell_type": "code",
      "execution_count": 8,
      "metadata": {
        "id": "wpItrtDlUXLe"
      },
      "outputs": [
        {
          "data": {
            "text/html": [
              "<div>\n",
              "<style scoped>\n",
              "    .dataframe tbody tr th:only-of-type {\n",
              "        vertical-align: middle;\n",
              "    }\n",
              "\n",
              "    .dataframe tbody tr th {\n",
              "        vertical-align: top;\n",
              "    }\n",
              "\n",
              "    .dataframe thead th {\n",
              "        text-align: right;\n",
              "    }\n",
              "</style>\n",
              "<table border=\"1\" class=\"dataframe\">\n",
              "  <thead>\n",
              "    <tr style=\"text-align: right;\">\n",
              "      <th></th>\n",
              "      <th>Starting year</th>\n",
              "      <th>End year</th>\n",
              "      <th>Samples</th>\n",
              "      <th>Prevalence</th>\n",
              "      <th>Male</th>\n",
              "      <th>Female</th>\n",
              "    </tr>\n",
              "  </thead>\n",
              "  <tbody>\n",
              "    <tr>\n",
              "      <th>0</th>\n",
              "      <td>2005</td>\n",
              "      <td>2008</td>\n",
              "      <td>1577</td>\n",
              "      <td>8.5</td>\n",
              "      <td>10.4</td>\n",
              "      <td>6.6</td>\n",
              "    </tr>\n",
              "    <tr>\n",
              "      <th>1</th>\n",
              "      <td>2013</td>\n",
              "      <td>2014</td>\n",
              "      <td>1460</td>\n",
              "      <td>13.2</td>\n",
              "      <td>16.2</td>\n",
              "      <td>10.5</td>\n",
              "    </tr>\n",
              "    <tr>\n",
              "      <th>2</th>\n",
              "      <td>2013</td>\n",
              "      <td>2015</td>\n",
              "      <td>2195</td>\n",
              "      <td>12.3</td>\n",
              "      <td>14.5</td>\n",
              "      <td>10.4</td>\n",
              "    </tr>\n",
              "  </tbody>\n",
              "</table>\n",
              "</div>"
            ],
            "text/plain": [
              "   Starting year  End year  Samples  Prevalence  Male  Female\n",
              "0           2005      2008     1577         8.5  10.4     6.6\n",
              "1           2013      2014     1460        13.2  16.2    10.5\n",
              "2           2013      2015     2195        12.3  14.5    10.4"
            ]
          },
          "execution_count": 8,
          "metadata": {},
          "output_type": "execute_result"
        }
      ],
      "source": [
        "df = df.iloc[:, [4, 5, 0, 1, 2, 3]]\n",
        "df"
      ]
    },
    {
      "cell_type": "code",
      "execution_count": 9,
      "metadata": {
        "id": "UbCcM3noVej2"
      },
      "outputs": [
        {
          "data": {
            "text/plain": [
              "<Axes: >"
            ]
          },
          "execution_count": 9,
          "metadata": {},
          "output_type": "execute_result"
        },
        {
          "data": {
            "image/png": "[encoded data removed]",
            "text/plain": [
              "<Figure size 640x480 with 1 Axes>"
            ]
          },
          "metadata": {},
          "output_type": "display_data"
        }
      ],
      "source": [
        "df[[\"Male\", \"Female\"]].plot.bar()"
      ]
    }
  ],
  "metadata": {
    "colab": {
      "collapsed_sections": [],
      "name": "lsp_1_pandas_tutorial_1.ipynb",
      "provenance": []
    },
    "kernelspec": {
      "display_name": "Python 3",
      "name": "python3"
    },
    "language_info": {
      "codemirror_mode": {
        "name": "ipython",
        "version": 3
      },
      "file_extension": ".py",
      "mimetype": "text/x-python",
      "name": "python",
      "nbconvert_exporter": "python",
      "pygments_lexer": "ipython3",
      "version": "3.11.2"
    }
  },
  "nbformat": 4,
  "nbformat_minor": 0
}

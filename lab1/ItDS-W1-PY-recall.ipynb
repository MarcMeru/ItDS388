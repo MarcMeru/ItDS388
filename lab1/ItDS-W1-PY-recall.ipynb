{
  "cells": [
    {
      "cell_type": "markdown",
      "metadata": {
        "id": "7FJxB5IltaGx"
      },
      "source": [
        "# Lecture 0: Python Programming\n"
      ]
    },
    {
      "cell_type": "markdown",
      "metadata": {
        "id": "novleitwtaG2"
      },
      "source": [
        "## Hello, Python."
      ]
    },
    {
      "cell_type": "code",
      "execution_count": 1,
      "metadata": {
        "id": "rXJWS-pPtaG2"
      },
      "outputs": [
        {
          "name": "stdout",
          "output_type": "stream",
          "text": [
            "Hello, Python.\n"
          ]
        }
      ],
      "source": [
        "print(\"Hello, Python.\")"
      ]
    },
    {
      "cell_type": "code",
      "execution_count": 2,
      "metadata": {
        "id": "5SDJoxioW2Sd"
      },
      "outputs": [
        {
          "name": "stdout",
          "output_type": "stream",
          "text": [
            "Hello, Arthur.\n"
          ]
        }
      ],
      "source": [
        "print(\"Hello, Arthur.\")"
      ]
    },
    {
      "cell_type": "markdown",
      "metadata": {
        "id": "e54FbfdMtaG3"
      },
      "source": [
        "## What is a Program?\n",
        "* Program $\\approx$ data + algorithms\n"
      ]
    },
    {
      "cell_type": "markdown",
      "metadata": {
        "id": "qNWpVKIotaG3"
      },
      "source": [
        "### Variables\n",
        "* Syntax\n",
        "```python\n",
        " variable_name = value\n",
        "```\n",
        "* DO NOT use keywords as your variables.\n",
        "    * [List of Keywords in Python](https://www.programiz.com/python-programming/keyword-list)"
      ]
    },
    {
      "cell_type": "code",
      "execution_count": 3,
      "metadata": {
        "id": "Xq6EHTdrtaG4"
      },
      "outputs": [
        {
          "name": "stdout",
          "output_type": "stream",
          "text": [
            "123\n",
            "456\n",
            "56088\n"
          ]
        }
      ],
      "source": [
        "price = 123\n",
        "qty = 456\n",
        "total = price * qty\n",
        "\n",
        "print(price)\n",
        "print(qty)\n",
        "print(total)"
      ]
    },
    {
      "cell_type": "markdown",
      "metadata": {
        "id": "TGJlFhsRtaG4"
      },
      "source": [
        "### Data Types: Texts & Numbers"
      ]
    },
    {
      "cell_type": "markdown",
      "metadata": {
        "id": "JPuyHqqbtaG4"
      },
      "source": [
        "#### Texts\n",
        "* How to encode the text in binary?\n",
        "    * strings: https://docs.python.org/3/library/stdtypes.html#text-sequence-type-str"
      ]
    },
    {
      "cell_type": "code",
      "execution_count": 4,
      "metadata": {
        "id": "I-gwWSXUtaG4"
      },
      "outputs": [
        {
          "name": "stdout",
          "output_type": "stream",
          "text": [
            "盧政良\n",
            "arthurzllu\n"
          ]
        }
      ],
      "source": [
        "name = \"盧政良\"  # You can use Chinese in Python.\n",
        "id = 'arthurzllu'\n",
        "\n",
        "print(name)\n",
        "print(id)"
      ]
    },
    {
      "cell_type": "code",
      "execution_count": 5,
      "metadata": {
        "id": "DPfo8fCUx1Pj"
      },
      "outputs": [
        {
          "name": "stdout",
          "output_type": "stream",
          "text": [
            "盧政良arthurzllu\n"
          ]
        }
      ],
      "source": [
        "fullname = name + id\n",
        "\n",
        "print(fullname)"
      ]
    },
    {
      "cell_type": "markdown",
      "metadata": {
        "id": "pfAL7yw7taG5"
      },
      "source": [
        "#### Numbers\n",
        "* We have two numeric types ``int`` and ``float``."
      ]
    },
    {
      "cell_type": "code",
      "execution_count": 6,
      "metadata": {
        "id": "TeYspU3ltaG5"
      },
      "outputs": [
        {
          "name": "stdout",
          "output_type": "stream",
          "text": [
            "0.05\n"
          ]
        }
      ],
      "source": [
        "r = 0.05 # interest rate = 5%\n",
        "print(r)"
      ]
    },
    {
      "cell_type": "code",
      "execution_count": 7,
      "metadata": {
        "id": "mI1tOMb-ZRN6"
      },
      "outputs": [
        {
          "name": "stdout",
          "output_type": "stream",
          "text": [
            "<class 'float'>\n"
          ]
        }
      ],
      "source": [
        "print(type(r))"
      ]
    },
    {
      "cell_type": "markdown",
      "metadata": {
        "id": "BPrR6B5_taG5"
      },
      "source": [
        "#### Arithmetic Operators\n",
        "* Addition: $+$\n",
        "* Substraction: $-$\n",
        "* Multiplication: $*$\n",
        "* Division: /\n",
        "* Exponentiation: $**$\n",
        "* Quotient: //\n",
        "* Modulo: %"
      ]
    },
    {
      "cell_type": "code",
      "execution_count": 8,
      "metadata": {
        "id": "9fWtydLuZbWa"
      },
      "outputs": [
        {
          "data": {
            "text/plain": [
              "1024"
            ]
          },
          "execution_count": 8,
          "metadata": {},
          "output_type": "execute_result"
        }
      ],
      "source": [
        "2 ** 10"
      ]
    },
    {
      "cell_type": "code",
      "execution_count": 9,
      "metadata": {
        "id": "c233dni5taG5"
      },
      "outputs": [
        {
          "data": {
            "text/plain": [
              "1.628894626777442"
            ]
          },
          "execution_count": 9,
          "metadata": {},
          "output_type": "execute_result"
        }
      ],
      "source": [
        "(1 + r) ** 10"
      ]
    },
    {
      "cell_type": "code",
      "execution_count": 10,
      "metadata": {
        "id": "Ins_3IlVZrnr"
      },
      "outputs": [
        {
          "data": {
            "text/plain": [
              "1.4142135623730951"
            ]
          },
          "execution_count": 10,
          "metadata": {},
          "output_type": "execute_result"
        }
      ],
      "source": [
        "2 ** 0.5"
      ]
    },
    {
      "cell_type": "markdown",
      "metadata": {
        "id": "0BOooJcDtaG6"
      },
      "source": [
        "#### Numerical Error\n",
        "* Causes: **finite precision** and **truncation of infinite series** (we'll see this later).\n",
        "* News: [大立光熔斷22次是電腦惹的禍，投資人可求償](https://news.cnyes.com/news/id/3680649), 2017.1.10\n",
        "* Decimal fixed point and floating point arithmetic: https://docs.python.org/3/library/decimal.html"
      ]
    },
    {
      "cell_type": "code",
      "execution_count": 11,
      "metadata": {
        "id": "33-81uBjtaG7"
      },
      "outputs": [
        {
          "data": {
            "text/plain": [
              "2.7755575615628914e-17"
            ]
          },
          "execution_count": 11,
          "metadata": {},
          "output_type": "execute_result"
        }
      ],
      "source": [
        "0.5 - 0.1 - 0.1 - 0.1 - 0.1 - 0.1"
      ]
    },
    {
      "cell_type": "code",
      "execution_count": 12,
      "metadata": {
        "id": "A2CXcplDtaG7"
      },
      "outputs": [
        {
          "data": {
            "text/plain": [
              "0.09999999999999998"
            ]
          },
          "execution_count": 12,
          "metadata": {},
          "output_type": "execute_result"
        }
      ],
      "source": [
        "0.3 - 0.2"
      ]
    },
    {
      "cell_type": "code",
      "execution_count": 13,
      "metadata": {
        "id": "F2dAq3fAtaG7"
      },
      "outputs": [
        {
          "data": {
            "text/plain": [
              "0.0"
            ]
          },
          "execution_count": 13,
          "metadata": {},
          "output_type": "execute_result"
        }
      ],
      "source": [
        "3.14 + 1e20 - 1e20"
      ]
    },
    {
      "cell_type": "code",
      "execution_count": 14,
      "metadata": {
        "id": "LosqI14etaG7"
      },
      "outputs": [
        {
          "data": {
            "text/plain": [
              "4.0"
            ]
          },
          "execution_count": 14,
          "metadata": {},
          "output_type": "execute_result"
        }
      ],
      "source": [
        "3.14 + 1e16 - 1e16"
      ]
    },
    {
      "cell_type": "markdown",
      "metadata": {
        "id": "7o_xoe-1taG5"
      },
      "source": [
        "#### Check the data type"
      ]
    },
    {
      "cell_type": "code",
      "execution_count": 15,
      "metadata": {
        "id": "GEuVdI70taG6"
      },
      "outputs": [
        {
          "data": {
            "text/plain": [
              "str"
            ]
          },
          "execution_count": 15,
          "metadata": {},
          "output_type": "execute_result"
        }
      ],
      "source": [
        "stock = \"2330\"\n",
        "\n",
        "type(stock)"
      ]
    },
    {
      "cell_type": "code",
      "execution_count": 16,
      "metadata": {
        "id": "hOsTROZYtaG6",
        "scrolled": true
      },
      "outputs": [
        {
          "data": {
            "text/plain": [
              "int"
            ]
          },
          "execution_count": 16,
          "metadata": {},
          "output_type": "execute_result"
        }
      ],
      "source": [
        "stock = 2330\n",
        "\n",
        "type(stock)"
      ]
    },
    {
      "cell_type": "code",
      "execution_count": 17,
      "metadata": {
        "id": "zZCPOQUpyslb"
      },
      "outputs": [
        {
          "data": {
            "text/plain": [
              "float"
            ]
          },
          "execution_count": 17,
          "metadata": {},
          "output_type": "execute_result"
        }
      ],
      "source": [
        "type(3.14)"
      ]
    },
    {
      "cell_type": "markdown",
      "metadata": {
        "id": "uNflMV73taG7"
      },
      "source": [
        "### Assignment Operator feat. Computation Model"
      ]
    },
    {
      "cell_type": "code",
      "execution_count": 18,
      "metadata": {
        "id": "fqrIxQmvtaG8"
      },
      "outputs": [
        {
          "name": "stdout",
          "output_type": "stream",
          "text": [
            "2\n"
          ]
        }
      ],
      "source": [
        "x = 1\n",
        "y = x + 1\n",
        "print(y)"
      ]
    },
    {
      "cell_type": "code",
      "execution_count": 19,
      "metadata": {
        "id": "z0gt9gVVtaG8"
      },
      "outputs": [
        {
          "name": "stdout",
          "output_type": "stream",
          "text": [
            "2\n"
          ]
        }
      ],
      "source": [
        "x = x + 1 # Is that weird to you?\n",
        "print(x)"
      ]
    },
    {
      "cell_type": "code",
      "execution_count": 20,
      "metadata": {
        "id": "lLS73Rm71_fh"
      },
      "outputs": [
        {
          "name": "stdout",
          "output_type": "stream",
          "text": [
            "101.0\n",
            "102.01\n",
            "103.0301\n"
          ]
        }
      ],
      "source": [
        "balance = 100\n",
        "r = 0.01\n",
        "\n",
        "balance = balance * (1 + r)\n",
        "print(balance)\n",
        "balance = balance * (1 + r)\n",
        "print(balance)\n",
        "balance = balance * (1 + r)\n",
        "print(balance)"
      ]
    },
    {
      "cell_type": "markdown",
      "metadata": {
        "id": "KPxjxY7PtaG8"
      },
      "source": [
        "## List\n",
        "* How to maintain a collection of data?"
      ]
    },
    {
      "cell_type": "code",
      "execution_count": 21,
      "metadata": {
        "id": "_oqL-CJataG8"
      },
      "outputs": [
        {
          "name": "stdout",
          "output_type": "stream",
          "text": [
            "['fb', 'amzn', 'aapl', 'nflx', 'goog']\n"
          ]
        }
      ],
      "source": [
        "pool = [\"fb\", \"amzn\", \"aapl\", \"nflx\", \"goog\"]\n",
        "\n",
        "print(pool)"
      ]
    },
    {
      "cell_type": "code",
      "execution_count": 22,
      "metadata": {
        "id": "erns782T8hR1"
      },
      "outputs": [
        {
          "name": "stdout",
          "output_type": "stream",
          "text": [
            "['fb', 'amzn', 'aapl', 'nflx', 'goog', 'intc']\n"
          ]
        }
      ],
      "source": [
        "pool.append(\"intc\")\n",
        "print(pool)"
      ]
    },
    {
      "cell_type": "code",
      "execution_count": 23,
      "metadata": {
        "id": "qOTb7gK8taG8"
      },
      "outputs": [
        {
          "name": "stdout",
          "output_type": "stream",
          "text": [
            "['fb', 'amzn', 'aapl', 'nflx', 'goog', 'intc', 'tsla']\n"
          ]
        }
      ],
      "source": [
        "pool = pool + [\"tsla\"]\n",
        "print(pool)"
      ]
    },
    {
      "cell_type": "markdown",
      "metadata": {
        "id": "qd0s0cXftaG9"
      },
      "source": [
        "### Slicing\n",
        "* Syntax \n",
        "```python\n",
        "start_idx : terminal_idx (exclusive) : steps\n",
        "```"
      ]
    },
    {
      "cell_type": "code",
      "execution_count": 24,
      "metadata": {
        "id": "RFE6xgZltaG9"
      },
      "outputs": [
        {
          "name": "stdout",
          "output_type": "stream",
          "text": [
            "fb\n"
          ]
        }
      ],
      "source": [
        "print(pool[0]) # string acts like a list"
      ]
    },
    {
      "cell_type": "code",
      "execution_count": 25,
      "metadata": {
        "id": "Of_TLdpxtaG9"
      },
      "outputs": [
        {
          "name": "stdout",
          "output_type": "stream",
          "text": [
            "['fb', 'amzn', 'aapl', 'nflx']\n"
          ]
        }
      ],
      "source": [
        "print(pool[0 : 4]) # slicing on lists/strings"
      ]
    },
    {
      "cell_type": "code",
      "execution_count": 26,
      "metadata": {
        "id": "iP6o1EiptaG9"
      },
      "outputs": [
        {
          "name": "stdout",
          "output_type": "stream",
          "text": [
            "['goog', 'intc', 'tsla']\n"
          ]
        }
      ],
      "source": [
        "print(pool[-3 : ]) # more tricks on slicing"
      ]
    },
    {
      "cell_type": "code",
      "execution_count": 27,
      "metadata": {
        "id": "fB9ET7UZtaG9"
      },
      "outputs": [
        {
          "name": "stdout",
          "output_type": "stream",
          "text": [
            "['fb', 'aapl']\n"
          ]
        }
      ],
      "source": [
        "print(pool[0 : 3 : 2])"
      ]
    },
    {
      "cell_type": "code",
      "execution_count": 28,
      "metadata": {
        "id": "y8k6gF2RtaG9"
      },
      "outputs": [
        {
          "name": "stdout",
          "output_type": "stream",
          "text": [
            "['tsla', 'intc', 'goog', 'nflx', 'aapl', 'amzn', 'fb']\n"
          ]
        }
      ],
      "source": [
        "print(pool[::-1])"
      ]
    },
    {
      "cell_type": "code",
      "execution_count": 29,
      "metadata": {
        "id": "-sxGt9RYqvqV"
      },
      "outputs": [
        {
          "name": "stdout",
          "output_type": "stream",
          "text": [
            "['tsla', 'goog', 'aapl', 'fb']\n"
          ]
        }
      ],
      "source": [
        "print(pool[::-2])"
      ]
    },
    {
      "cell_type": "markdown",
      "metadata": {
        "id": "HoSSTOzEtaG-"
      },
      "source": [
        "### APIs of Lists\n",
        "* **A**pplication **P**rogramming **I**nterface\n",
        "* What is the size of my list?\n",
        "    * Use ``len``."
      ]
    },
    {
      "cell_type": "code",
      "execution_count": 30,
      "metadata": {
        "id": "R0GTcqR-taG-",
        "scrolled": true
      },
      "outputs": [
        {
          "name": "stdout",
          "output_type": "stream",
          "text": [
            "7\n"
          ]
        }
      ],
      "source": [
        "print(len(pool)) # len(): return the number of elements in stock_pool"
      ]
    },
    {
      "cell_type": "code",
      "execution_count": 31,
      "metadata": {
        "id": "eAL1xzJTtaG-"
      },
      "outputs": [
        {
          "name": "stdout",
          "output_type": "stream",
          "text": [
            "Help on class list in module builtins:\n",
            "\n",
            "class list(object)\n",
            " |  list(iterable=(), /)\n",
            " |  \n",
            " |  Built-in mutable sequence.\n",
            " |  \n",
            " |  If no argument is given, the constructor creates a new empty list.\n",
            " |  The argument must be an iterable if specified.\n",
            " |  \n",
            " |  Methods defined here:\n",
            " |  \n",
            " |  __add__(self, value, /)\n",
            " |      Return self+value.\n",
            " |  \n",
            " |  __contains__(self, key, /)\n",
            " |      Return key in self.\n",
            " |  \n",
            " |  __delitem__(self, key, /)\n",
            " |      Delete self[key].\n",
            " |  \n",
            " |  __eq__(self, value, /)\n",
            " |      Return self==value.\n",
            " |  \n",
            " |  __ge__(self, value, /)\n",
            " |      Return self>=value.\n",
            " |  \n",
            " |  __getattribute__(self, name, /)\n",
            " |      Return getattr(self, name).\n",
            " |  \n",
            " |  __getitem__(...)\n",
            " |      x.__getitem__(y) <==> x[y]\n",
            " |  \n",
            " |  __gt__(self, value, /)\n",
            " |      Return self>value.\n",
            " |  \n",
            " |  __iadd__(self, value, /)\n",
            " |      Implement self+=value.\n",
            " |  \n",
            " |  __imul__(self, value, /)\n",
            " |      Implement self*=value.\n",
            " |  \n",
            " |  __init__(self, /, *args, **kwargs)\n",
            " |      Initialize self.  See help(type(self)) for accurate signature.\n",
            " |  \n",
            " |  __iter__(self, /)\n",
            " |      Implement iter(self).\n",
            " |  \n",
            " |  __le__(self, value, /)\n",
            " |      Return self<=value.\n",
            " |  \n",
            " |  __len__(self, /)\n",
            " |      Return len(self).\n",
            " |  \n",
            " |  __lt__(self, value, /)\n",
            " |      Return self<value.\n",
            " |  \n",
            " |  __mul__(self, value, /)\n",
            " |      Return self*value.\n",
            " |  \n",
            " |  __ne__(self, value, /)\n",
            " |      Return self!=value.\n",
            " |  \n",
            " |  __repr__(self, /)\n",
            " |      Return repr(self).\n",
            " |  \n",
            " |  __reversed__(self, /)\n",
            " |      Return a reverse iterator over the list.\n",
            " |  \n",
            " |  __rmul__(self, value, /)\n",
            " |      Return value*self.\n",
            " |  \n",
            " |  __setitem__(self, key, value, /)\n",
            " |      Set self[key] to value.\n",
            " |  \n",
            " |  __sizeof__(self, /)\n",
            " |      Return the size of the list in memory, in bytes.\n",
            " |  \n",
            " |  append(self, object, /)\n",
            " |      Append object to the end of the list.\n",
            " |  \n",
            " |  clear(self, /)\n",
            " |      Remove all items from list.\n",
            " |  \n",
            " |  copy(self, /)\n",
            " |      Return a shallow copy of the list.\n",
            " |  \n",
            " |  count(self, value, /)\n",
            " |      Return number of occurrences of value.\n",
            " |  \n",
            " |  extend(self, iterable, /)\n",
            " |      Extend list by appending elements from the iterable.\n",
            " |  \n",
            " |  index(self, value, start=0, stop=9223372036854775807, /)\n",
            " |      Return first index of value.\n",
            " |      \n",
            " |      Raises ValueError if the value is not present.\n",
            " |  \n",
            " |  insert(self, index, object, /)\n",
            " |      Insert object before index.\n",
            " |  \n",
            " |  pop(self, index=-1, /)\n",
            " |      Remove and return item at index (default last).\n",
            " |      \n",
            " |      Raises IndexError if list is empty or index is out of range.\n",
            " |  \n",
            " |  remove(self, value, /)\n",
            " |      Remove first occurrence of value.\n",
            " |      \n",
            " |      Raises ValueError if the value is not present.\n",
            " |  \n",
            " |  reverse(self, /)\n",
            " |      Reverse *IN PLACE*.\n",
            " |  \n",
            " |  sort(self, /, *, key=None, reverse=False)\n",
            " |      Sort the list in ascending order and return None.\n",
            " |      \n",
            " |      The sort is in-place (i.e. the list itself is modified) and stable (i.e. the\n",
            " |      order of two equal elements is maintained).\n",
            " |      \n",
            " |      If a key function is given, apply it once to each list item and sort them,\n",
            " |      ascending or descending, according to their function values.\n",
            " |      \n",
            " |      The reverse flag can be set to sort in descending order.\n",
            " |  \n",
            " |  ----------------------------------------------------------------------\n",
            " |  Class methods defined here:\n",
            " |  \n",
            " |  __class_getitem__(...) from builtins.type\n",
            " |      See PEP 585\n",
            " |  \n",
            " |  ----------------------------------------------------------------------\n",
            " |  Static methods defined here:\n",
            " |  \n",
            " |  __new__(*args, **kwargs) from builtins.type\n",
            " |      Create and return a new object.  See help(type) for accurate signature.\n",
            " |  \n",
            " |  ----------------------------------------------------------------------\n",
            " |  Data and other attributes defined here:\n",
            " |  \n",
            " |  __hash__ = None\n",
            "\n"
          ]
        }
      ],
      "source": [
        "help(list) # help yourself. you need to learn API by RTFM"
      ]
    },
    {
      "cell_type": "markdown",
      "metadata": {
        "id": "J7vvjCZCtaG-"
      },
      "source": [
        "#### More Examples for List API"
      ]
    },
    {
      "cell_type": "code",
      "execution_count": 32,
      "metadata": {
        "id": "BqW1BlggtaG-"
      },
      "outputs": [
        {
          "name": "stdout",
          "output_type": "stream",
          "text": [
            "Before sorted: ['fb', 'amzn', 'aapl', 'nflx', 'goog', 'intc', 'tsla']\n",
            "After sorted: ['aapl', 'amzn', 'fb', 'goog', 'intc', 'nflx', 'tsla']\n"
          ]
        }
      ],
      "source": [
        "print(\"Before sorted:\", pool)\n",
        "pool.sort()\n",
        "print(\"After sorted:\", pool)"
      ]
    },
    {
      "cell_type": "markdown",
      "metadata": {
        "id": "ri5k_1_staHA"
      },
      "source": [
        "## Flow Controls"
      ]
    },
    {
      "cell_type": "markdown",
      "metadata": {
        "id": "wgkNWXporeVt"
      },
      "source": [
        "### Conditional Statements (Branching)"
      ]
    },
    {
      "cell_type": "markdown",
      "metadata": {
        "id": "eX7Z6WgdtaHA"
      },
      "source": [
        "#### Relational Operators & Logical Operators\n",
        "* greater than: $>$\n",
        "* less than: $<$\n",
        "* equal to: $==$\n",
        "* and, or"
      ]
    },
    {
      "cell_type": "markdown",
      "metadata": {
        "id": "5KjbYRB7taHA"
      },
      "source": [
        "#### Syntax 1\n",
        "```python\n",
        "if condition:\n",
        "    actions\n",
        "```"
      ]
    },
    {
      "cell_type": "code",
      "execution_count": 33,
      "metadata": {
        "id": "UFtdmhv3taHA"
      },
      "outputs": [
        {
          "name": "stdout",
          "output_type": "stream",
          "text": [
            "PASS\n"
          ]
        }
      ],
      "source": [
        "score = 88\n",
        "\n",
        "if score >= 60:\n",
        "    print(\"PASS\")"
      ]
    },
    {
      "cell_type": "markdown",
      "metadata": {
        "id": "l3ab1cAQtaHA"
      },
      "source": [
        "#### Syntax 2\n",
        "\n",
        "```python\n",
        "if condition:\n",
        "    actions\n",
        "else:\n",
        "    actions\n",
        "```"
      ]
    },
    {
      "cell_type": "code",
      "execution_count": 34,
      "metadata": {
        "id": "YkSgBH7CtaHA"
      },
      "outputs": [
        {
          "name": "stdout",
          "output_type": "stream",
          "text": [
            "FAIL\n"
          ]
        }
      ],
      "source": [
        "score = 59\n",
        "\n",
        "if score >= 60:\n",
        "    print(\"PASS\")\n",
        "else:\n",
        "    print(\"FAIL\")"
      ]
    },
    {
      "cell_type": "markdown",
      "metadata": {
        "id": "_65_WLSItaHA"
      },
      "source": [
        "#### Syntax 3\n",
        "```python\n",
        "if condition:\n",
        "    actions\n",
        "elif condition:\n",
        "    actions\n",
        ".\n",
        ".\n",
        ".\n",
        "else:\n",
        "    actions\n",
        "```"
      ]
    },
    {
      "cell_type": "code",
      "execution_count": 35,
      "metadata": {
        "id": "VWM5cbxbtaHB"
      },
      "outputs": [
        {
          "name": "stdout",
          "output_type": "stream",
          "text": [
            "體重適中\n"
          ]
        }
      ],
      "source": [
        "height = 1.73\n",
        "weight = 70\n",
        "bmi = weight / height ** 2\n",
        "\n",
        "if bmi < 18.5:\n",
        "    print(\"體重過輕\")\n",
        "elif bmi > 24:\n",
        "    print(\"體重過重\")\n",
        "else:\n",
        "    print(\"體重適中\")"
      ]
    },
    {
      "cell_type": "markdown",
      "metadata": {
        "id": "XmBeMuFktaHB"
      },
      "source": [
        "### Loops"
      ]
    },
    {
      "cell_type": "markdown",
      "metadata": {
        "id": "Ic0XMTsrtaHB"
      },
      "source": [
        "#### For Loops\n",
        "* For the cases of knowing data size or number of iteration, we may use for loops.\n",
        "* To specify the certain number of iterations, use **range(stop)** or **range(start, stop[, step])** where *stop* is exclusive.\n",
        "* (FYR) Try this game: [celebrating 50 years of kids coding by Google](https://www.google.com/doodles/celebrating-50-years-of-kids-coding)."
      ]
    },
    {
      "cell_type": "code",
      "execution_count": 36,
      "metadata": {
        "id": "tHPs8P2AtaHB"
      },
      "outputs": [
        {
          "name": "stdout",
          "output_type": "stream",
          "text": [
            "0\n",
            "1\n",
            "2\n",
            "3\n",
            "4\n",
            "5\n"
          ]
        }
      ],
      "source": [
        "for x in range(6):\n",
        "    print(x)"
      ]
    },
    {
      "cell_type": "code",
      "execution_count": 37,
      "metadata": {
        "id": "-tT7BtxKtaHB"
      },
      "outputs": [
        {
          "name": "stdout",
          "output_type": "stream",
          "text": [
            "1\n",
            "2\n",
            "3\n",
            "4\n",
            "5\n"
          ]
        }
      ],
      "source": [
        "for x in range(1, 6):\n",
        "    print(x)"
      ]
    },
    {
      "cell_type": "code",
      "execution_count": 38,
      "metadata": {
        "id": "RaX0QL8JoOHm"
      },
      "outputs": [
        {
          "name": "stdout",
          "output_type": "stream",
          "text": [
            "1\n",
            "3\n",
            "5\n"
          ]
        }
      ],
      "source": [
        "for x in range(1, 6, 2):\n",
        "    print(x)"
      ]
    },
    {
      "cell_type": "markdown",
      "metadata": {
        "id": "1Y5vpgPotaHC"
      },
      "source": [
        "##### Example: Estimating $\\pi$ by Monte Carlo (MC) simulation\n",
        "- The MC algorithm is as follows:\n",
        "    - Set the number of samples $N = $1e5 and the number of points falling in the quarter circle $M = 0$.\n",
        "    - For each sample, use random.uniform(0, 1) to generate a sample point within a unit square.\n",
        "    - If this point falls in the quarter circle, then $M = M + 1$.\n",
        "    - Calculate the estimator $\\hat{\\pi} = \\dfrac{4 \\times M}{N}$, which is approaching the true value $\\pi$ as $N \\rightarrow \\infty$ (check the law of large number, LLN).\n",
        "![](https://upload.wikimedia.org/wikipedia/commons/thumb/8/84/Pi_30K.gif/220px-Pi_30K.gif)\n",
        "- References\n",
        "    - https://en.wikipedia.org/wiki/Monte_Carlo_method"
      ]
    },
    {
      "cell_type": "code",
      "execution_count": 39,
      "metadata": {
        "id": "y8J0sHobtaHC"
      },
      "outputs": [
        {
          "name": "stdout",
          "output_type": "stream",
          "text": [
            "3.145236\n"
          ]
        }
      ],
      "source": [
        "import random\n",
        "\n",
        "N = 1000000\n",
        "M = 0\n",
        "\n",
        "for i in range(N):\n",
        "    \n",
        "    x = random.uniform(0, 1)\n",
        "    y = random.uniform(0, 1)\n",
        "    \n",
        "    if x ** 2 + y ** 2 <= 1:\n",
        "        M = M + 1\n",
        "\n",
        "print(4 * M / N)"
      ]
    },
    {
      "cell_type": "markdown",
      "metadata": {
        "id": "ENa35uJX8AeP"
      },
      "source": [
        "##### Example: Enumerations"
      ]
    },
    {
      "cell_type": "code",
      "execution_count": 40,
      "metadata": {
        "id": "Ha27GvgQtaHC"
      },
      "outputs": [
        {
          "name": "stdout",
          "output_type": "stream",
          "text": [
            "aapl\n",
            "amzn\n",
            "fb\n",
            "goog\n",
            "intc\n",
            "nflx\n",
            "tsla\n"
          ]
        }
      ],
      "source": [
        "for item in pool:\n",
        "    print(item)"
      ]
    },
    {
      "cell_type": "code",
      "execution_count": 41,
      "metadata": {
        "id": "IUzp8qTq8InT"
      },
      "outputs": [
        {
          "name": "stdout",
          "output_type": "stream",
          "text": [
            "0 aapl\n",
            "1 amzn\n",
            "2 fb\n",
            "3 goog\n",
            "4 intc\n",
            "5 nflx\n",
            "6 tsla\n"
          ]
        }
      ],
      "source": [
        "for idx, item in enumerate(pool):\n",
        "    print(idx, item)"
      ]
    },
    {
      "cell_type": "markdown",
      "metadata": {
        "id": "_rmPbnjPtaHD"
      },
      "source": [
        "#### While Loops\n",
        "* Compared to ``for`` loops, you may use while loops for the cases when the number of iteration is unknown:"
      ]
    },
    {
      "cell_type": "markdown",
      "metadata": {
        "id": "77_NG0PptaHD"
      },
      "source": [
        "##### Example\n",
        "- Calculate the number of holding years so that the final asset value reaches the predetermined goal."
      ]
    },
    {
      "cell_type": "code",
      "execution_count": 42,
      "metadata": {
        "id": "Q6kSFsFdtaHE"
      },
      "outputs": [
        {
          "name": "stdout",
          "output_type": "stream",
          "text": [
            "1 105.0\n",
            "2 110.25\n",
            "3 115.76\n",
            "4 121.55\n",
            "5 127.63\n",
            "6 134.01\n",
            "7 140.71\n",
            "8 147.75\n",
            "9 155.13\n",
            "10 162.89\n",
            "11 171.03\n",
            "12 179.59\n",
            "13 188.56\n",
            "14 197.99\n",
            "15 207.89\n"
          ]
        }
      ],
      "source": [
        "balance = 100\n",
        "annual_return_rate = 0.05\n",
        "goal = 200\n",
        "\n",
        "holding_years = 0\n",
        "while balance < goal:\n",
        "    balance = balance * (1 + annual_return_rate)\n",
        "    holding_years += 1\n",
        "    print(holding_years, round(balance, 2))"
      ]
    },
    {
      "cell_type": "markdown",
      "metadata": {
        "id": "6wPn1JWrtaHE"
      },
      "source": [
        "##### Exercise: Estimation of the Euler constant by Monte Carlo Simulation\n",
        "- Reference\n",
        "    - https://www.jstor.org/stable/2685243"
      ]
    },
    {
      "cell_type": "code",
      "execution_count": 43,
      "metadata": {
        "id": "NLpbe6tJtaHE"
      },
      "outputs": [
        {
          "name": "stdout",
          "output_type": "stream",
          "text": [
            "e ~ 2.71843\n"
          ]
        }
      ],
      "source": [
        "import random\n",
        "\n",
        "N = 100000\n",
        "m = 0\n",
        "\n",
        "for _ in range(N):\n",
        "    \n",
        "    s = 0;\n",
        "    n = 0;\n",
        "    while s < 1:\n",
        "        s = s + random.uniform(0, 1)\n",
        "        n = n + 1\n",
        "        \n",
        "    m = m + n\n",
        "\n",
        "print('e ~', m / N)"
      ]
    },
    {
      "cell_type": "markdown",
      "metadata": {
        "id": "6EZxWrAL-v6O"
      },
      "source": [
        "### Jump Statemens\n",
        "* continue: skip this iteration\n",
        "* break: early termination\n",
        "* pass: no action"
      ]
    },
    {
      "cell_type": "code",
      "execution_count": 44,
      "metadata": {
        "id": "81ld3Zd7taHE"
      },
      "outputs": [
        {
          "name": "stdout",
          "output_type": "stream",
          "text": [
            "0 1 2 3 4 6 7 8 9 "
          ]
        }
      ],
      "source": [
        "for n in range(10):\n",
        "    if n == 5:\n",
        "        continue\n",
        "    print(n, end = \" \") # the keyword parameter \"end\" is used to specify the symbol after output"
      ]
    },
    {
      "cell_type": "code",
      "execution_count": 45,
      "metadata": {
        "id": "Sv5yhVlk-y6S"
      },
      "outputs": [
        {
          "name": "stdout",
          "output_type": "stream",
          "text": [
            "0 1 2 3 4 "
          ]
        }
      ],
      "source": [
        "for n in range(10):\n",
        "    if n == 5:\n",
        "        break\n",
        "    print(n, end = \" \")"
      ]
    },
    {
      "cell_type": "code",
      "execution_count": 46,
      "metadata": {
        "id": "DJoAKZLh-0S1"
      },
      "outputs": [
        {
          "name": "stdout",
          "output_type": "stream",
          "text": [
            "0 1 2 3 4 5 6 7 8 9 "
          ]
        }
      ],
      "source": [
        "for n in range(10):\n",
        "    if n == 5:\n",
        "      pass  \n",
        "    print(n, end = \" \")"
      ]
    },
    {
      "cell_type": "markdown",
      "metadata": {
        "id": "BKUhMYBJ8pbq"
      },
      "source": [
        "#### Exercise: Primality Test\n",
        "- Let $x$ be any positive integer larger than 2.\n",
        "- Then determine whether or not x is a prime.\n",
        "- You could start with the definition of prime numbers. (See https://en.wikipedia.org/wiki/Primality_test#Python_code.)"
      ]
    },
    {
      "cell_type": "code",
      "execution_count": 47,
      "metadata": {
        "id": "8RFbRaxQ8vYO"
      },
      "outputs": [
        {
          "name": "stdout",
          "output_type": "stream",
          "text": [
            "21 is not a prime.\n"
          ]
        }
      ],
      "source": [
        "x = 21\n",
        "\n",
        "for y in range(2, x):\n",
        "    if x % y == 0:\n",
        "        print(x, \"is not a prime.\")\n",
        "        break\n",
        "\n",
        "if y == x - 1:\n",
        "    print(x, \"is a prime.\")"
      ]
    },
    {
      "cell_type": "markdown",
      "metadata": {
        "id": "a6JHn5Sx_Mrp"
      },
      "source": [
        "## Functions\n",
        "* Code reuse\n",
        "* Action abstraction: information hiding, simplifying program structure\n",
        "\n",
        "```python\n",
        "def function_name(input):\n",
        "    body statements\n",
        "    return output\n",
        "```"
      ]
    },
    {
      "cell_type": "code",
      "execution_count": 48,
      "metadata": {
        "id": "NQgGn4Vx_lWn"
      },
      "outputs": [
        {
          "name": "stdout",
          "output_type": "stream",
          "text": [
            "3\n",
            "111\n",
            "10101\n"
          ]
        }
      ],
      "source": [
        "def f(x):\n",
        "    return x ** 2 + x + 1\n",
        "\n",
        "print(f(1))\n",
        "print(f(10))\n",
        "print(f(100))"
      ]
    },
    {
      "cell_type": "markdown",
      "metadata": {
        "id": "S424WJB0BP6D"
      },
      "source": [
        "#### Lambda: Anonymous Function\n",
        "```python\n",
        "function_handle = lambda input_list: function body\n",
        "```"
      ]
    },
    {
      "cell_type": "code",
      "execution_count": 49,
      "metadata": {
        "id": "EGWlySeCBiKf"
      },
      "outputs": [
        {
          "name": "stdout",
          "output_type": "stream",
          "text": [
            "111\n"
          ]
        }
      ],
      "source": [
        "f = lambda x : x ** 2 + x + 1\n",
        "\n",
        "print(f(10))"
      ]
    }
  ],
  "metadata": {
    "colab": {
      "collapsed_sections": [],
      "name": "lsp_0_python_programming.ipynb",
      "provenance": []
    },
    "kernelspec": {
      "display_name": "Python 3",
      "language": "python",
      "name": "python3"
    },
    "language_info": {
      "codemirror_mode": {
        "name": "ipython",
        "version": 3
      },
      "file_extension": ".py",
      "mimetype": "text/x-python",
      "name": "python",
      "nbconvert_exporter": "python",
      "pygments_lexer": "ipython3",
      "version": "3.11.2"
    }
  },
  "nbformat": 4,
  "nbformat_minor": 0
}

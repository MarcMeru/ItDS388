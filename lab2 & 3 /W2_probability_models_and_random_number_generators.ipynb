{
  "nbformat": 4,
  "nbformat_minor": 0,
  "metadata": {
    "colab": {
      "name": "lsp_2_probability_models_and_random_number_generators.ipynb",
      "provenance": [],
      "collapsed_sections": [],
      "toc_visible": true
    },
    "kernelspec": {
      "name": "python3",
      "display_name": "Python 3"
    }
  },
  "cells": [
    {
      "cell_type": "markdown",
      "metadata": {
        "id": "r5Zec0cFbk4P"
      },
      "source": [
        "# Lecture 2: Probability Models & Random Number Generators (RNGs)"
      ]
    },
    {
      "cell_type": "code",
      "metadata": {
        "id": "Nsie29SL8QLp"
      },
      "source": [
        "import matplotlib.pyplot as plt\n",
        "\n",
        "params = {'legend.fontsize': 'x-large',\n",
        "      'figure.figsize': (12, 6),\n",
        "      'axes.labelsize': 'x-large',\n",
        "      'axes.titlesize': 'x-large',\n",
        "      'xtick.labelsize': 'x-large',\n",
        "      'ytick.labelsize': 'x-large',\n",
        "      'lines.linewidth': 2}\n",
        "\n",
        "plt.rcParams.update(params)\n",
        "%matplotlib inline"
      ],
      "execution_count": 1,
      "outputs": []
    },
    {
      "cell_type": "markdown",
      "metadata": {
        "id": "830dm5oQbtnK"
      },
      "source": [
        "## First Package for Statistics: scipy.stats\n",
        "- Random number generator (RNG)\n",
        "    - rvs(): generate random variates\n",
        "    - pdf(): probability density function for continuous distributions\n",
        "    - pmf(): probability mass function for discrete distributions\n",
        "    - cdf(): cumulative density function\n",
        "    - ppf(): percent point function (inverse of cdf - percentiles)\n",
        "- References\n",
        "    - https://docs.scipy.org/doc/scipy/reference/stats.html\n",
        "    - https://docs.scipy.org/doc/scipy/reference/tutorial/stats.html"
      ]
    },
    {
      "cell_type": "code",
      "metadata": {
        "id": "_VwnpFv3b1dC"
      },
      "source": [
        "import scipy.stats"
      ],
      "execution_count": 2,
      "outputs": []
    },
    {
      "cell_type": "markdown",
      "metadata": {
        "id": "YxWSb4yNb3J2"
      },
      "source": [
        "### Discrete Random Variables"
      ]
    },
    {
      "cell_type": "markdown",
      "metadata": {
        "id": "I_8c_0rzcG-Q"
      },
      "source": [
        "#### Bernoulli Distribution"
      ]
    },
    {
      "cell_type": "code",
      "metadata": {
        "id": "2PkMtCfdhHhO",
        "colab": {
          "base_uri": "https://localhost:8080/"
        },
        "outputId": "6364431e-b249-4aa9-bdf0-f7a8800154ea"
      },
      "source": [
        "sample1 = scipy.stats.bernoulli(0.5).rvs(30)\n",
        "sample1"
      ],
      "execution_count": 3,
      "outputs": [
        {
          "output_type": "execute_result",
          "data": {
            "text/plain": [
              "array([1, 1, 0, 1, 1, 0, 0, 1, 1, 1, 0, 0, 0, 0, 1, 1, 0, 0, 1, 0, 0, 1,\n",
              "       0, 0, 1, 0, 1, 1, 0, 1])"
            ]
          },
          "metadata": {
            "tags": []
          },
          "execution_count": 3
        }
      ]
    },
    {
      "cell_type": "code",
      "metadata": {
        "id": "0PmCd7QIvRjE",
        "colab": {
          "base_uri": "https://localhost:8080/",
          "height": 269
        },
        "outputId": "73851a27-d3de-4b70-f4dd-06c9bf04ddca"
      },
      "source": [
        "plt.hist(sample1)\n",
        "plt.grid(True)"
      ],
      "execution_count": 4,
      "outputs": [
        {
          "output_type": "display_data",
          "data": {
            "image/png": "[encoded data removed]",
            "text/plain": [
              "<Figure size 432x288 with 1 Axes>"
            ]
          },
          "metadata": {
            "tags": [],
            "needs_background": "light"
          }
        }
      ]
    },
    {
      "cell_type": "markdown",
      "metadata": {
        "id": "v7cXlM6fcQ4C"
      },
      "source": [
        "#### Binomial Distribution"
      ]
    },
    {
      "cell_type": "code",
      "metadata": {
        "id": "BGI5C-pnhvrV",
        "colab": {
          "base_uri": "https://localhost:8080/"
        },
        "outputId": "6434a43f-f785-47db-c38e-4e658e11988b"
      },
      "source": [
        "sample2 = scipy.stats.binom(n = 10, p = 0.5).rvs(3000)\n",
        "sample2"
      ],
      "execution_count": 5,
      "outputs": [
        {
          "output_type": "execute_result",
          "data": {
            "text/plain": [
              "array([5, 3, 6, ..., 5, 5, 6])"
            ]
          },
          "metadata": {
            "tags": []
          },
          "execution_count": 5
        }
      ]
    },
    {
      "cell_type": "code",
      "metadata": {
        "id": "fN2As-jEjyVj",
        "colab": {
          "base_uri": "https://localhost:8080/",
          "height": 269
        },
        "outputId": "1e645e8b-1cf4-4d83-92a5-69a41c9be08c"
      },
      "source": [
        "import matplotlib.pyplot as plt\n",
        "\n",
        "plt.hist(sample2, density = True, histtype = \"step\", linewidth = 3, align = \"left\")\n",
        "plt.grid(True)"
      ],
      "execution_count": 6,
      "outputs": [
        {
          "output_type": "display_data",
          "data": {
            "image/png": "[encoded data removed]",
            "text/plain": [
              "<Figure size 432x288 with 1 Axes>"
            ]
          },
          "metadata": {
            "tags": [],
            "needs_background": "light"
          }
        }
      ]
    },
    {
      "cell_type": "markdown",
      "metadata": {
        "id": "vTFtPh_TckNs"
      },
      "source": [
        "### Continuous Random Variables"
      ]
    },
    {
      "cell_type": "markdown",
      "metadata": {
        "id": "tjBMEehJcoD-"
      },
      "source": [
        "#### Uniform Distribution"
      ]
    },
    {
      "cell_type": "code",
      "metadata": {
        "id": "EIvRpv7Pp49G"
      },
      "source": [
        "sample3 = scipy.stats.uniform(0, 1).rvs(1000)"
      ],
      "execution_count": 7,
      "outputs": []
    },
    {
      "cell_type": "code",
      "metadata": {
        "id": "uuBQvG0gcu7R",
        "colab": {
          "base_uri": "https://localhost:8080/",
          "height": 269
        },
        "outputId": "60383c8b-656c-46a5-e8bb-8e160833331f"
      },
      "source": [
        "plt.hist(sample3, bins = 10, histtype = 'step', linewidth = 3)\n",
        "plt.grid(True)"
      ],
      "execution_count": 8,
      "outputs": [
        {
          "output_type": "display_data",
          "data": {
            "image/png": "[encoded data removed]",
            "text/plain": [
              "<Figure size 432x288 with 1 Axes>"
            ]
          },
          "metadata": {
            "tags": [],
            "needs_background": "light"
          }
        }
      ]
    },
    {
      "cell_type": "markdown",
      "metadata": {
        "id": "jM5TAMhTc4zM"
      },
      "source": [
        "#### Normal Distribution"
      ]
    },
    {
      "cell_type": "code",
      "metadata": {
        "id": "gE27PnPC8ckr",
        "colab": {
          "base_uri": "https://localhost:8080/",
          "height": 270
        },
        "outputId": "ff2c6e8e-ddd2-48ed-e624-98d34ba63940"
      },
      "source": [
        "sample4 = scipy.stats.norm().rvs(1000) # standard normal distribution\n",
        "plt.hist(sample4, bins = 40, histtype = 'step', linewidth = 3)\n",
        "plt.grid(True)"
      ],
      "execution_count": 9,
      "outputs": [
        {
          "output_type": "display_data",
          "data": {
            "image/png": "[encoded data removed]",
            "text/plain": [
              "<Figure size 432x288 with 1 Axes>"
            ]
          },
          "metadata": {
            "tags": [],
            "needs_background": "light"
          }
        }
      ]
    },
    {
      "cell_type": "code",
      "metadata": {
        "id": "91KwNuTi83M-",
        "colab": {
          "base_uri": "https://localhost:8080/"
        },
        "outputId": "5767fd7a-2207-4ea1-8a96-3b1256d118c8"
      },
      "source": [
        "print(sample4.mean(), sample4.std(), scipy.stats.skew(sample4), scipy.stats.kurtosis(sample4))"
      ],
      "execution_count": 10,
      "outputs": [
        {
          "output_type": "stream",
          "text": [
            "-0.026341295079124357 1.0283365024395927 -0.006829815436926049 0.1465125217187353\n"
          ],
          "name": "stdout"
        }
      ]
    },
    {
      "cell_type": "code",
      "metadata": {
        "id": "34vS-LB5dDyR",
        "colab": {
          "base_uri": "https://localhost:8080/",
          "height": 269
        },
        "outputId": "b02a4755-5500-4ef9-919a-da4153500cd6"
      },
      "source": [
        "sample4 = scipy.stats.norm(loc = 10, scale = 5).rvs(1000) # normal distribution\n",
        "plt.hist(sample4, bins = 40, histtype = 'step', linewidth = 3)\n",
        "plt.grid(True)"
      ],
      "execution_count": 11,
      "outputs": [
        {
          "output_type": "display_data",
          "data": {
            "image/png": "[encoded data removed]",
            "text/plain": [
              "<Figure size 432x288 with 1 Axes>"
            ]
          },
          "metadata": {
            "tags": [],
            "needs_background": "light"
          }
        }
      ]
    },
    {
      "cell_type": "markdown",
      "metadata": {
        "id": "u3AeGmdPguu2"
      },
      "source": [
        "#### $\\chi^2$ Distribution"
      ]
    },
    {
      "cell_type": "code",
      "metadata": {
        "id": "J4zFL-XWguFe",
        "colab": {
          "base_uri": "https://localhost:8080/",
          "height": 269
        },
        "outputId": "6a7f8c94-ac10-4c3f-938b-e2abf99fc613"
      },
      "source": [
        "X = scipy.stats.norm().rvs(1000)\n",
        "sample5 = X ** 2\n",
        "plt.hist(sample5, bins = 41, histtype = 'step', linewidth = 3)\n",
        "plt.grid(True)"
      ],
      "execution_count": 12,
      "outputs": [
        {
          "output_type": "display_data",
          "data": {
            "image/png": "[encoded data removed]",
            "text/plain": [
              "<Figure size 432x288 with 1 Axes>"
            ]
          },
          "metadata": {
            "tags": [],
            "needs_background": "light"
          }
        }
      ]
    },
    {
      "cell_type": "code",
      "metadata": {
        "id": "B5twsIG1h_PN",
        "colab": {
          "base_uri": "https://localhost:8080/",
          "height": 269
        },
        "outputId": "91879ed0-0ad4-48e8-bf6c-d79fb65e5c6b"
      },
      "source": [
        "sample6 = scipy.stats.chi2(df = 1).rvs(1000)\n",
        "plt.hist(sample6, bins = 41, histtype = 'step', linewidth = 3)\n",
        "plt.grid(True)"
      ],
      "execution_count": 13,
      "outputs": [
        {
          "output_type": "display_data",
          "data": {
            "image/png": "[encoded data removed]",
            "text/plain": [
              "<Figure size 432x288 with 1 Axes>"
            ]
          },
          "metadata": {
            "tags": [],
            "needs_background": "light"
          }
        }
      ]
    },
    {
      "cell_type": "markdown",
      "metadata": {
        "id": "zcEbsYgf__ut"
      },
      "source": [
        "#### Student's t Distribution"
      ]
    },
    {
      "cell_type": "code",
      "metadata": {
        "id": "yqVQHNpfAEoN",
        "colab": {
          "base_uri": "https://localhost:8080/",
          "height": 273
        },
        "outputId": "d9a22600-68b0-4b4f-c789-d0d97841f7b5"
      },
      "source": [
        "sample7 = scipy.stats.t(df = 5).rvs(1000)\n",
        "plt.hist(sample7, bins = 41, histtype = 'step', linewidth = 3)\n",
        "plt.grid(True)"
      ],
      "execution_count": 14,
      "outputs": [
        {
          "output_type": "display_data",
          "data": {
            "image/png": "[encoded data removed]",
            "text/plain": [
              "<Figure size 432x288 with 1 Axes>"
            ]
          },
          "metadata": {
            "tags": [],
            "needs_background": "light"
          }
        }
      ]
    },
    {
      "cell_type": "markdown",
      "metadata": {
        "id": "3r_lA031ErTu"
      },
      "source": [
        "#### F Distribution"
      ]
    },
    {
      "cell_type": "code",
      "metadata": {
        "id": "nJrApOg2EpGO",
        "colab": {
          "base_uri": "https://localhost:8080/",
          "height": 269
        },
        "outputId": "8207468a-b4bc-4277-ed0d-9c7a97048dca"
      },
      "source": [
        "sample8 = scipy.stats.f(dfn = 10, dfd = 10).rvs(3000)\n",
        "plt.hist(sample8, bins = 100, histtype = 'step', linewidth = 3)\n",
        "plt.grid(True)"
      ],
      "execution_count": 15,
      "outputs": [
        {
          "output_type": "display_data",
          "data": {
            "image/png": "[encoded data removed]",
            "text/plain": [
              "<Figure size 432x288 with 1 Axes>"
            ]
          },
          "metadata": {
            "tags": [],
            "needs_background": "light"
          }
        }
      ]
    },
    {
      "cell_type": "markdown",
      "metadata": {
        "id": "mM1Wvizj-TRj"
      },
      "source": [
        "### Probability Density Function (PDF)"
      ]
    },
    {
      "cell_type": "markdown",
      "metadata": {
        "id": "cCMShF6N-fRy"
      },
      "source": [
        "#### Normal Distribution"
      ]
    },
    {
      "cell_type": "code",
      "metadata": {
        "id": "G3wvb1N1-hwH",
        "colab": {
          "base_uri": "https://localhost:8080/",
          "height": 269
        },
        "outputId": "60decf6b-1c8a-48e4-968d-893ef4d87231"
      },
      "source": [
        "import numpy as np\n",
        "\n",
        "x = np.linspace(-4, 4, 201)\n",
        "y1 = scipy.stats.norm.pdf(x)\n",
        "y2 = scipy.stats.norm.pdf(x, loc = 1)\n",
        "y3 = scipy.stats.norm.pdf(x, scale = 2)\n",
        "\n",
        "plt.figure()\n",
        "plt.plot(x, y1)\n",
        "plt.plot(x, y2)\n",
        "plt.plot(x, y3)\n",
        "plt.legend([\"$N(0, 1)$\", \"$N(1, 1)$\", \"$N(0, 4)$\"])\n",
        "plt.grid(True)"
      ],
      "execution_count": 16,
      "outputs": [
        {
          "output_type": "display_data",
          "data": {
            "image/png": "[encoded data removed]",
            "text/plain": [
              "<Figure size 432x288 with 1 Axes>"
            ]
          },
          "metadata": {
            "tags": [],
            "needs_background": "light"
          }
        }
      ]
    },
    {
      "cell_type": "markdown",
      "metadata": {
        "id": "qW13TYE9AXxg"
      },
      "source": [
        "#### Student's t Distribution"
      ]
    },
    {
      "cell_type": "code",
      "metadata": {
        "id": "Q-ZZn-2UAXUL",
        "colab": {
          "base_uri": "https://localhost:8080/",
          "height": 269
        },
        "outputId": "6dc1fcdb-1cf9-45e3-a9dd-e967364aa193"
      },
      "source": [
        "x = np.linspace(-4, 4, 201)\n",
        "y0 = scipy.stats.norm.pdf(x)\n",
        "y1 = scipy.stats.t.pdf(x, df = 2)\n",
        "y2 = scipy.stats.t.pdf(x, df = 4)\n",
        "\n",
        "plt.figure()\n",
        "plt.plot(x, y0)\n",
        "plt.plot(x, y1)\n",
        "plt.plot(x, y2)\n",
        "plt.legend([\"$N(0, 1)$\", \"$t$(df = 2)\", \"$t$(df = 4)\"])\n",
        "plt.grid(True)"
      ],
      "execution_count": 17,
      "outputs": [
        {
          "output_type": "display_data",
          "data": {
            "image/png": "[encoded data removed]",
            "text/plain": [
              "<Figure size 432x288 with 1 Axes>"
            ]
          },
          "metadata": {
            "tags": [],
            "needs_background": "light"
          }
        }
      ]
    },
    {
      "cell_type": "markdown",
      "metadata": {
        "id": "BOutK5ghd2N6"
      },
      "source": [
        "### Cumulative Distribution Function (CDF) "
      ]
    },
    {
      "cell_type": "code",
      "metadata": {
        "id": "OFh6xic3d8nv",
        "colab": {
          "base_uri": "https://localhost:8080/"
        },
        "outputId": "aeb7ac54-0801-4197-8dd3-04c5f1c2f6ff"
      },
      "source": [
        "scipy.stats.norm().cdf(x = 0)"
      ],
      "execution_count": 18,
      "outputs": [
        {
          "output_type": "execute_result",
          "data": {
            "text/plain": [
              "0.5"
            ]
          },
          "metadata": {
            "tags": []
          },
          "execution_count": 18
        }
      ]
    },
    {
      "cell_type": "code",
      "metadata": {
        "id": "TExqrstSeBz7",
        "colab": {
          "base_uri": "https://localhost:8080/",
          "height": 287
        },
        "outputId": "eec40c8d-45cf-4851-8d69-85948436d886"
      },
      "source": [
        "import numpy as np\n",
        "\n",
        "x = np.linspace(-3, 3, 100)\n",
        "y = scipy.stats.norm().cdf(x)\n",
        "plt.plot(x, y)\n",
        "plt.xlabel(\"$x$\")\n",
        "plt.ylabel(\"Pr($X = x$)\")\n",
        "plt.grid(True)"
      ],
      "execution_count": 19,
      "outputs": [
        {
          "output_type": "display_data",
          "data": {
            "image/png": "[encoded data removed]",
            "text/plain": [
              "<Figure size 432x288 with 1 Axes>"
            ]
          },
          "metadata": {
            "tags": [],
            "needs_background": "light"
          }
        }
      ]
    },
    {
      "cell_type": "markdown",
      "metadata": {
        "id": "kDvIbuksdZf5"
      },
      "source": [
        "### Percentiles / Quantiles"
      ]
    },
    {
      "cell_type": "code",
      "metadata": {
        "id": "Drygki1V4nkm",
        "colab": {
          "base_uri": "https://localhost:8080/"
        },
        "outputId": "b99f73e5-4808-4d69-87cd-dca5e8aa4cb2"
      },
      "source": [
        "scipy.stats.norm(loc = 70, scale = 10).ppf(0.9)"
      ],
      "execution_count": 20,
      "outputs": [
        {
          "output_type": "execute_result",
          "data": {
            "text/plain": [
              "82.815515655446"
            ]
          },
          "metadata": {
            "tags": []
          },
          "execution_count": 20
        }
      ]
    },
    {
      "cell_type": "code",
      "metadata": {
        "id": "dLlwP_96sppg",
        "colab": {
          "base_uri": "https://localhost:8080/"
        },
        "outputId": "dd5326f8-cca1-47cf-c090-777b1ff4cd11"
      },
      "source": [
        "scipy.stats.norm().ppf(0.95) # Pr(X < x) = 0.95 -> x = 1.6448536269514722 ~ 1.64"
      ],
      "execution_count": 21,
      "outputs": [
        {
          "output_type": "execute_result",
          "data": {
            "text/plain": [
              "1.6448536269514722"
            ]
          },
          "metadata": {
            "tags": []
          },
          "execution_count": 21
        }
      ]
    },
    {
      "cell_type": "code",
      "metadata": {
        "id": "bNmnEua_tfzF",
        "colab": {
          "base_uri": "https://localhost:8080/"
        },
        "outputId": "2d0919cc-2502-44c6-df3a-b858524ddf03"
      },
      "source": [
        "scipy.stats.norm().ppf(0.975) # Pr(X < x) = 0.975 -> x = 1.959963984540054 ~ 1.96"
      ],
      "execution_count": 22,
      "outputs": [
        {
          "output_type": "execute_result",
          "data": {
            "text/plain": [
              "1.959963984540054"
            ]
          },
          "metadata": {
            "tags": []
          },
          "execution_count": 22
        }
      ]
    },
    {
      "cell_type": "markdown",
      "metadata": {
        "id": "0NDxaskQCqkE"
      },
      "source": [
        "### Covariance and Correlation"
      ]
    },
    {
      "cell_type": "code",
      "metadata": {
        "id": "rlVBDI0BCvtM"
      },
      "source": [
        "import numpy as np"
      ],
      "execution_count": 23,
      "outputs": []
    },
    {
      "cell_type": "code",
      "metadata": {
        "id": "QMIfaWJ_C0vV"
      },
      "source": [
        "X = scipy.stats.norm().rvs(50)\n",
        "Y = 0.5 * X + 0.5 * scipy.stats.norm().rvs(50)"
      ],
      "execution_count": 24,
      "outputs": []
    },
    {
      "cell_type": "code",
      "metadata": {
        "id": "6rXuH8HaDCpb",
        "colab": {
          "base_uri": "https://localhost:8080/",
          "height": 378
        },
        "outputId": "8a1d6a33-0613-4e5d-a2c9-f64f2b3dbedd"
      },
      "source": [
        "plt.figure(figsize = (6, 6))\n",
        "plt.scatter(X, Y)\n",
        "plt.grid(True)"
      ],
      "execution_count": 25,
      "outputs": [
        {
          "output_type": "display_data",
          "data": {
            "image/png": "[encoded data removed]",
            "text/plain": [
              "<Figure size 432x432 with 1 Axes>"
            ]
          },
          "metadata": {
            "tags": [],
            "needs_background": "light"
          }
        }
      ]
    },
    {
      "cell_type": "code",
      "metadata": {
        "id": "n-Uk626vD5XX",
        "colab": {
          "base_uri": "https://localhost:8080/"
        },
        "outputId": "5eeb64cf-237c-4a39-8c95-2186fad1abe6"
      },
      "source": [
        "print(np.var(X), np.var(Y)) # population variance"
      ],
      "execution_count": 26,
      "outputs": [
        {
          "output_type": "stream",
          "text": [
            "1.2565135680431843 0.6378157848634083\n"
          ],
          "name": "stdout"
        }
      ]
    },
    {
      "cell_type": "code",
      "metadata": {
        "id": "dZOx1LZkDj9I",
        "colab": {
          "base_uri": "https://localhost:8080/"
        },
        "outputId": "adf0e78b-f027-4651-a76b-1415609e1c56"
      },
      "source": [
        "print(np.var(X, ddof = 1), np.var(Y, ddof = 1)) # sample variance with correction of degree of free"
      ],
      "execution_count": 27,
      "outputs": [
        {
          "output_type": "stream",
          "text": [
            "1.2821567020848819 0.65083243353409\n"
          ],
          "name": "stdout"
        }
      ]
    },
    {
      "cell_type": "code",
      "metadata": {
        "id": "H0MgXWqeDexv",
        "colab": {
          "base_uri": "https://localhost:8080/"
        },
        "outputId": "5443324d-3a48-4c18-a6c9-405f332ab266"
      },
      "source": [
        "np.cov(X, Y) # sample covariance"
      ],
      "execution_count": 28,
      "outputs": [
        {
          "output_type": "execute_result",
          "data": {
            "text/plain": [
              "array([[1.2821567 , 0.66713873],\n",
              "       [0.66713873, 0.65083243]])"
            ]
          },
          "metadata": {
            "tags": []
          },
          "execution_count": 28
        }
      ]
    },
    {
      "cell_type": "code",
      "metadata": {
        "id": "Jb2Exa2LDYhL",
        "colab": {
          "base_uri": "https://localhost:8080/"
        },
        "outputId": "80449a11-61af-4d41-c13c-c62eec82ef8f"
      },
      "source": [
        "np.corrcoef(X, Y)"
      ],
      "execution_count": 29,
      "outputs": [
        {
          "output_type": "execute_result",
          "data": {
            "text/plain": [
              "array([[1.        , 0.73031632],\n",
              "       [0.73031632, 1.        ]])"
            ]
          },
          "metadata": {
            "tags": []
          },
          "execution_count": 29
        }
      ]
    }
  ]
}